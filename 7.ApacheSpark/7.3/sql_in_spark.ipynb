{
 "cells": [
  {
   "cell_type": "code",
   "execution_count": 1,
   "metadata": {},
   "outputs": [],
   "source": [
    "import pyspark\n",
    "from pyspark.sql import SparkSession"
   ]
  },
  {
   "cell_type": "code",
   "execution_count": 2,
   "metadata": {},
   "outputs": [
    {
     "name": "stderr",
     "output_type": "stream",
     "text": [
      "Setting default log level to \"WARN\".\n",
      "To adjust logging level use sc.setLogLevel(newLevel). For SparkR, use setLogLevel(newLevel).\n",
      "24/01/24 04:06:08 WARN NativeCodeLoader: Unable to load native-hadoop library for your platform... using builtin-java classes where applicable\n"
     ]
    }
   ],
   "source": [
    "spark = SparkSession.builder\\\n",
    "                    .master(\"local[*]\")\\\n",
    "                    .appName(\"SparkSQL\")\\\n",
    "                    .getOrCreate()"
   ]
  },
  {
   "cell_type": "code",
   "execution_count": 3,
   "metadata": {},
   "outputs": [
    {
     "name": "stderr",
     "output_type": "stream",
     "text": [
      "                                                                                \r"
     ]
    }
   ],
   "source": [
    "df_green = spark.read.parquet(\"data/raw/green/*/*/*\")"
   ]
  },
  {
   "cell_type": "code",
   "execution_count": 4,
   "metadata": {},
   "outputs": [
    {
     "name": "stdout",
     "output_type": "stream",
     "text": [
      "+--------+--------------------+---------------------+------------------+----------+------------+------------+---------------+-------------+-----------+-----+-------+----------+------------+---------+---------------------+------------+------------+---------+--------------------+\n",
      "|VendorID|lpep_pickup_datetime|lpep_dropoff_datetime|store_and_fwd_flag|RatecodeID|PULocationID|DOLocationID|passenger_count|trip_distance|fare_amount|extra|mta_tax|tip_amount|tolls_amount|ehail_fee|improvement_surcharge|total_amount|payment_type|trip_type|congestion_surcharge|\n",
      "+--------+--------------------+---------------------+------------------+----------+------------+------------+---------------+-------------+-----------+-----+-------+----------+------------+---------+---------------------+------------+------------+---------+--------------------+\n",
      "|       2| 2019-12-18 15:52:30|  2019-12-18 15:54:39|                 N|       1.0|         264|         264|            5.0|          0.0|        3.5|  0.5|    0.5|      0.01|         0.0|     null|                  0.3|        4.81|         1.0|      1.0|                 0.0|\n",
      "|       2| 2020-01-01 00:45:58|  2020-01-01 00:56:39|                 N|       5.0|          66|          65|            2.0|         1.28|       20.0|  0.0|    0.0|      4.06|         0.0|     null|                  0.3|       24.36|         1.0|      2.0|                 0.0|\n",
      "|       2| 2020-01-01 00:41:38|  2020-01-01 00:52:49|                 N|       1.0|         181|         228|            1.0|         2.47|       10.5|  0.5|    0.5|      3.54|         0.0|     null|                  0.3|       15.34|         1.0|      1.0|                 0.0|\n",
      "|       1| 2020-01-01 00:52:46|  2020-01-01 01:14:21|                 N|       1.0|         129|         263|            2.0|          6.3|       21.0| 3.25|    0.5|       0.0|         0.0|     null|                  0.3|       25.05|         2.0|      1.0|                2.75|\n",
      "|       1| 2020-01-01 00:19:57|  2020-01-01 00:30:56|                 N|       1.0|         210|         150|            1.0|          2.3|       10.0|  0.5|    0.5|       0.0|         0.0|     null|                  0.3|        11.3|         1.0|      1.0|                 0.0|\n",
      "+--------+--------------------+---------------------+------------------+----------+------------+------------+---------------+-------------+-----------+-----+-------+----------+------------+---------+---------------------+------------+------------+---------+--------------------+\n",
      "only showing top 5 rows\n",
      "\n"
     ]
    }
   ],
   "source": [
    "df_green.show(5)"
   ]
  },
  {
   "cell_type": "code",
   "execution_count": 5,
   "metadata": {},
   "outputs": [
    {
     "name": "stdout",
     "output_type": "stream",
     "text": [
      "root\n",
      " |-- VendorID: long (nullable = true)\n",
      " |-- lpep_pickup_datetime: timestamp_ntz (nullable = true)\n",
      " |-- lpep_dropoff_datetime: timestamp_ntz (nullable = true)\n",
      " |-- store_and_fwd_flag: string (nullable = true)\n",
      " |-- RatecodeID: double (nullable = true)\n",
      " |-- PULocationID: long (nullable = true)\n",
      " |-- DOLocationID: long (nullable = true)\n",
      " |-- passenger_count: double (nullable = true)\n",
      " |-- trip_distance: double (nullable = true)\n",
      " |-- fare_amount: double (nullable = true)\n",
      " |-- extra: double (nullable = true)\n",
      " |-- mta_tax: double (nullable = true)\n",
      " |-- tip_amount: double (nullable = true)\n",
      " |-- tolls_amount: double (nullable = true)\n",
      " |-- ehail_fee: integer (nullable = true)\n",
      " |-- improvement_surcharge: double (nullable = true)\n",
      " |-- total_amount: double (nullable = true)\n",
      " |-- payment_type: double (nullable = true)\n",
      " |-- trip_type: double (nullable = true)\n",
      " |-- congestion_surcharge: double (nullable = true)\n",
      "\n"
     ]
    }
   ],
   "source": [
    "df_green.printSchema()"
   ]
  },
  {
   "cell_type": "code",
   "execution_count": 6,
   "metadata": {},
   "outputs": [
    {
     "data": {
      "text/plain": [
       "(2802931, 20)"
      ]
     },
     "execution_count": 6,
     "metadata": {},
     "output_type": "execute_result"
    }
   ],
   "source": [
    "df_green.count(), len(df_green.columns)"
   ]
  },
  {
   "cell_type": "code",
   "execution_count": 7,
   "metadata": {},
   "outputs": [
    {
     "data": {
      "text/plain": [
       "4"
      ]
     },
     "execution_count": 7,
     "metadata": {},
     "output_type": "execute_result"
    }
   ],
   "source": [
    "df_green.rdd.getNumPartitions()"
   ]
  },
  {
   "cell_type": "code",
   "execution_count": 8,
   "metadata": {},
   "outputs": [],
   "source": [
    "df_yellow = spark.read.parquet(\"data/raw/yellow/*/*/*\")"
   ]
  },
  {
   "cell_type": "code",
   "execution_count": 9,
   "metadata": {},
   "outputs": [
    {
     "data": {
      "text/plain": [
       "StructType([StructField('VendorID', LongType(), True), StructField('tpep_pickup_datetime', TimestampNTZType(), True), StructField('tpep_dropoff_datetime', TimestampNTZType(), True), StructField('passenger_count', DoubleType(), True), StructField('trip_distance', DoubleType(), True), StructField('RatecodeID', DoubleType(), True), StructField('store_and_fwd_flag', StringType(), True), StructField('PULocationID', LongType(), True), StructField('DOLocationID', LongType(), True), StructField('payment_type', LongType(), True), StructField('fare_amount', DoubleType(), True), StructField('extra', DoubleType(), True), StructField('mta_tax', DoubleType(), True), StructField('tip_amount', DoubleType(), True), StructField('tolls_amount', DoubleType(), True), StructField('improvement_surcharge', DoubleType(), True), StructField('total_amount', DoubleType(), True), StructField('congestion_surcharge', DoubleType(), True), StructField('airport_fee', IntegerType(), True)])"
      ]
     },
     "execution_count": 9,
     "metadata": {},
     "output_type": "execute_result"
    }
   ],
   "source": [
    "df_yellow.schema"
   ]
  },
  {
   "cell_type": "code",
   "execution_count": 10,
   "metadata": {},
   "outputs": [
    {
     "name": "stdout",
     "output_type": "stream",
     "text": [
      "root\n",
      " |-- VendorID: long (nullable = true)\n",
      " |-- tpep_pickup_datetime: timestamp_ntz (nullable = true)\n",
      " |-- tpep_dropoff_datetime: timestamp_ntz (nullable = true)\n",
      " |-- passenger_count: double (nullable = true)\n",
      " |-- trip_distance: double (nullable = true)\n",
      " |-- RatecodeID: double (nullable = true)\n",
      " |-- store_and_fwd_flag: string (nullable = true)\n",
      " |-- PULocationID: long (nullable = true)\n",
      " |-- DOLocationID: long (nullable = true)\n",
      " |-- payment_type: long (nullable = true)\n",
      " |-- fare_amount: double (nullable = true)\n",
      " |-- extra: double (nullable = true)\n",
      " |-- mta_tax: double (nullable = true)\n",
      " |-- tip_amount: double (nullable = true)\n",
      " |-- tolls_amount: double (nullable = true)\n",
      " |-- improvement_surcharge: double (nullable = true)\n",
      " |-- total_amount: double (nullable = true)\n",
      " |-- congestion_surcharge: double (nullable = true)\n",
      " |-- airport_fee: integer (nullable = true)\n",
      "\n"
     ]
    }
   ],
   "source": [
    "df_yellow.printSchema()"
   ]
  },
  {
   "cell_type": "code",
   "execution_count": 11,
   "metadata": {},
   "outputs": [
    {
     "data": {
      "text/plain": [
       "(55553400, 20)"
      ]
     },
     "execution_count": 11,
     "metadata": {},
     "output_type": "execute_result"
    }
   ],
   "source": [
    "df_yellow.count(), len(df_green.columns)"
   ]
  },
  {
   "cell_type": "markdown",
   "metadata": {},
   "source": [
    "Schemas are alittle different, so we will need to do some data cleaning."
   ]
  },
  {
   "cell_type": "code",
   "execution_count": 12,
   "metadata": {},
   "outputs": [
    {
     "data": {
      "text/plain": [
       "{'DOLocationID',\n",
       " 'PULocationID',\n",
       " 'RatecodeID',\n",
       " 'VendorID',\n",
       " 'congestion_surcharge',\n",
       " 'extra',\n",
       " 'fare_amount',\n",
       " 'improvement_surcharge',\n",
       " 'mta_tax',\n",
       " 'passenger_count',\n",
       " 'payment_type',\n",
       " 'store_and_fwd_flag',\n",
       " 'tip_amount',\n",
       " 'tolls_amount',\n",
       " 'total_amount',\n",
       " 'trip_distance'}"
      ]
     },
     "execution_count": 12,
     "metadata": {},
     "output_type": "execute_result"
    }
   ],
   "source": [
    "set(df_yellow.columns) & set(df_green.columns)"
   ]
  },
  {
   "cell_type": "markdown",
   "metadata": {},
   "source": []
  },
  {
   "cell_type": "code",
   "execution_count": 13,
   "metadata": {},
   "outputs": [
    {
     "data": {
      "text/plain": [
       "16"
      ]
     },
     "execution_count": 13,
     "metadata": {},
     "output_type": "execute_result"
    }
   ],
   "source": [
    "len(set(df_yellow.columns) & set(df_green.columns))"
   ]
  },
  {
   "cell_type": "markdown",
   "metadata": {},
   "source": [
    "Only 16 columns are same in both datasets\n",
    "\n",
    "{'DOLocationID',\n",
    " 'PULocationID',\n",
    " 'RatecodeID',\n",
    " 'VendorID',\n",
    " 'congestion_surcharge',\n",
    " 'extra',\n",
    " 'fare_amount',\n",
    " 'improvement_surcharge',\n",
    " 'mta_tax',\n",
    " 'passenger_count',\n",
    " 'payment_type',\n",
    " 'store_and_fwd_flag',\n",
    " 'tip_amount',\n",
    " 'tolls_amount',\n",
    " 'total_amount',\n",
    " 'trip_distance'}"
   ]
  },
  {
   "cell_type": "code",
   "execution_count": 14,
   "metadata": {},
   "outputs": [
    {
     "data": {
      "text/plain": [
       "{'airport_fee',\n",
       " 'ehail_fee',\n",
       " 'lpep_dropoff_datetime',\n",
       " 'lpep_pickup_datetime',\n",
       " 'tpep_dropoff_datetime',\n",
       " 'tpep_pickup_datetime',\n",
       " 'trip_type'}"
      ]
     },
     "execution_count": 14,
     "metadata": {},
     "output_type": "execute_result"
    }
   ],
   "source": [
    "set(df_yellow.columns).symmetric_difference(df_green.columns)"
   ]
  },
  {
   "cell_type": "code",
   "execution_count": 15,
   "metadata": {},
   "outputs": [
    {
     "name": "stdout",
     "output_type": "stream",
     "text": [
      "lpep_pickup_datetime -> df_green\n",
      "tpep_dropoff_datetime -> df_yellow\n",
      "ehail_fee -> df_green\n",
      "trip_type -> df_green\n",
      "tpep_pickup_datetime -> df_yellow\n",
      "lpep_dropoff_datetime -> df_green\n",
      "airport_fee -> df_yellow\n"
     ]
    }
   ],
   "source": [
    "# Define the set of column names\n",
    "column_names = {'airport_fee', 'ehail_fee', 'lpep_dropoff_datetime', 'lpep_pickup_datetime', 'tpep_dropoff_datetime', 'tpep_pickup_datetime', 'trip_type'}\n",
    "\n",
    "# Check which dataframe each column comes from\n",
    "for column in column_names:\n",
    "    if column in df_yellow.columns:\n",
    "        print(f\"{column} -> df_yellow\")\n",
    "    if column in df_green.columns:\n",
    "        print(f\"{column} -> df_green\")"
   ]
  },
  {
   "cell_type": "code",
   "execution_count": 16,
   "metadata": {},
   "outputs": [],
   "source": [
    "df_green = df_green.withColumnRenamed(\"lpep_dropoff_datetime\", \"dropoff_datetime\")\\\n",
    "        .withColumnRenamed(\"lpep_pickup_datetime\", \"pickup_datetime\")"
   ]
  },
  {
   "cell_type": "code",
   "execution_count": 17,
   "metadata": {},
   "outputs": [],
   "source": [
    "df_yellow = df_yellow.withColumnRenamed(\"tpep_dropoff_datetime\", \"dropoff_datetime\")\\\n",
    "        .withColumnRenamed(\"tpep_pickup_datetime\", \"pickup_datetime\")"
   ]
  },
  {
   "cell_type": "code",
   "execution_count": 18,
   "metadata": {},
   "outputs": [
    {
     "name": "stdout",
     "output_type": "stream",
     "text": [
      "airport_fee -> df_yellow\n",
      "ehail_fee -> df_green\n",
      "trip_type -> df_green\n"
     ]
    }
   ],
   "source": [
    "column_names = set(df_yellow.columns).symmetric_difference(df_green.columns)\n",
    "# Check which dataframe each column comes from\n",
    "for column in column_names:\n",
    "    if column in df_yellow.columns:\n",
    "        print(f\"{column} -> df_yellow\")\n",
    "    if column in df_green.columns:\n",
    "        print(f\"{column} -> df_green\")"
   ]
  },
  {
   "cell_type": "code",
   "execution_count": 19,
   "metadata": {},
   "outputs": [
    {
     "data": {
      "text/plain": [
       "{'DOLocationID',\n",
       " 'PULocationID',\n",
       " 'RatecodeID',\n",
       " 'VendorID',\n",
       " 'congestion_surcharge',\n",
       " 'dropoff_datetime',\n",
       " 'extra',\n",
       " 'fare_amount',\n",
       " 'improvement_surcharge',\n",
       " 'mta_tax',\n",
       " 'passenger_count',\n",
       " 'payment_type',\n",
       " 'pickup_datetime',\n",
       " 'store_and_fwd_flag',\n",
       " 'tip_amount',\n",
       " 'tolls_amount',\n",
       " 'total_amount',\n",
       " 'trip_distance'}"
      ]
     },
     "execution_count": 19,
     "metadata": {},
     "output_type": "execute_result"
    }
   ],
   "source": [
    "# Common columns in both datasets\n",
    "set(df_yellow.columns) & set(df_green.columns)"
   ]
  },
  {
   "cell_type": "code",
   "execution_count": 20,
   "metadata": {},
   "outputs": [],
   "source": [
    "from pyspark.sql.functions import lit\n",
    "df_green = df_green.withColumn(\"source\", lit(\"green\"))\n",
    "df_yellow = df_yellow.withColumn(\"source\", lit(\"yellow\"))"
   ]
  },
  {
   "cell_type": "code",
   "execution_count": 21,
   "metadata": {},
   "outputs": [
    {
     "name": "stdout",
     "output_type": "stream",
     "text": [
      "root\n",
      " |-- VendorID: long (nullable = true)\n",
      " |-- pickup_datetime: timestamp_ntz (nullable = true)\n",
      " |-- dropoff_datetime: timestamp_ntz (nullable = true)\n",
      " |-- store_and_fwd_flag: string (nullable = true)\n",
      " |-- RatecodeID: double (nullable = true)\n",
      " |-- PULocationID: long (nullable = true)\n",
      " |-- DOLocationID: long (nullable = true)\n",
      " |-- passenger_count: double (nullable = true)\n",
      " |-- trip_distance: double (nullable = true)\n",
      " |-- fare_amount: double (nullable = true)\n",
      " |-- extra: double (nullable = true)\n",
      " |-- mta_tax: double (nullable = true)\n",
      " |-- tip_amount: double (nullable = true)\n",
      " |-- tolls_amount: double (nullable = true)\n",
      " |-- ehail_fee: integer (nullable = true)\n",
      " |-- improvement_surcharge: double (nullable = true)\n",
      " |-- total_amount: double (nullable = true)\n",
      " |-- payment_type: double (nullable = true)\n",
      " |-- trip_type: double (nullable = true)\n",
      " |-- congestion_surcharge: double (nullable = true)\n",
      " |-- source: string (nullable = false)\n",
      "\n"
     ]
    }
   ],
   "source": [
    "df_green.printSchema()"
   ]
  },
  {
   "cell_type": "code",
   "execution_count": 22,
   "metadata": {},
   "outputs": [
    {
     "name": "stdout",
     "output_type": "stream",
     "text": [
      "root\n",
      " |-- VendorID: long (nullable = true)\n",
      " |-- pickup_datetime: timestamp_ntz (nullable = true)\n",
      " |-- dropoff_datetime: timestamp_ntz (nullable = true)\n",
      " |-- passenger_count: double (nullable = true)\n",
      " |-- trip_distance: double (nullable = true)\n",
      " |-- RatecodeID: double (nullable = true)\n",
      " |-- store_and_fwd_flag: string (nullable = true)\n",
      " |-- PULocationID: long (nullable = true)\n",
      " |-- DOLocationID: long (nullable = true)\n",
      " |-- payment_type: long (nullable = true)\n",
      " |-- fare_amount: double (nullable = true)\n",
      " |-- extra: double (nullable = true)\n",
      " |-- mta_tax: double (nullable = true)\n",
      " |-- tip_amount: double (nullable = true)\n",
      " |-- tolls_amount: double (nullable = true)\n",
      " |-- improvement_surcharge: double (nullable = true)\n",
      " |-- total_amount: double (nullable = true)\n",
      " |-- congestion_surcharge: double (nullable = true)\n",
      " |-- airport_fee: integer (nullable = true)\n",
      " |-- source: string (nullable = false)\n",
      "\n"
     ]
    }
   ],
   "source": [
    "df_yellow.printSchema()"
   ]
  },
  {
   "cell_type": "code",
   "execution_count": 23,
   "metadata": {},
   "outputs": [],
   "source": [
    "common_columns = set(df_yellow.columns) & set(df_green.columns)\n",
    "df_yellow_common = df_yellow.select(*common_columns)"
   ]
  },
  {
   "cell_type": "code",
   "execution_count": 24,
   "metadata": {},
   "outputs": [
    {
     "data": {
      "text/plain": [
       "{'DOLocationID',\n",
       " 'PULocationID',\n",
       " 'RatecodeID',\n",
       " 'VendorID',\n",
       " 'congestion_surcharge',\n",
       " 'dropoff_datetime',\n",
       " 'extra',\n",
       " 'fare_amount',\n",
       " 'improvement_surcharge',\n",
       " 'mta_tax',\n",
       " 'passenger_count',\n",
       " 'payment_type',\n",
       " 'pickup_datetime',\n",
       " 'source',\n",
       " 'store_and_fwd_flag',\n",
       " 'tip_amount',\n",
       " 'tolls_amount',\n",
       " 'total_amount',\n",
       " 'trip_distance'}"
      ]
     },
     "execution_count": 24,
     "metadata": {},
     "output_type": "execute_result"
    }
   ],
   "source": [
    "common_columns"
   ]
  },
  {
   "cell_type": "code",
   "execution_count": 25,
   "metadata": {},
   "outputs": [],
   "source": [
    "df_green_common = df_green.select(*common_columns)"
   ]
  },
  {
   "cell_type": "code",
   "execution_count": 26,
   "metadata": {},
   "outputs": [
    {
     "data": {
      "text/plain": [
       "['PULocationID',\n",
       " 'tolls_amount',\n",
       " 'VendorID',\n",
       " 'mta_tax',\n",
       " 'DOLocationID',\n",
       " 'passenger_count',\n",
       " 'RatecodeID',\n",
       " 'extra',\n",
       " 'congestion_surcharge',\n",
       " 'trip_distance',\n",
       " 'dropoff_datetime',\n",
       " 'fare_amount',\n",
       " 'tip_amount',\n",
       " 'source',\n",
       " 'improvement_surcharge',\n",
       " 'payment_type',\n",
       " 'store_and_fwd_flag',\n",
       " 'pickup_datetime',\n",
       " 'total_amount']"
      ]
     },
     "execution_count": 26,
     "metadata": {},
     "output_type": "execute_result"
    }
   ],
   "source": [
    "df_green_common.columns"
   ]
  },
  {
   "cell_type": "code",
   "execution_count": 27,
   "metadata": {},
   "outputs": [],
   "source": [
    "df_trips = df_green_common.unionAll(df_yellow_common)"
   ]
  },
  {
   "cell_type": "code",
   "execution_count": 28,
   "metadata": {},
   "outputs": [
    {
     "name": "stdout",
     "output_type": "stream",
     "text": [
      "+------------+------------+--------+-------+------------+---------------+----------+-----+--------------------+-------------+-------------------+-----------+----------+------+---------------------+------------+------------------+-------------------+------------+\n",
      "|PULocationID|tolls_amount|VendorID|mta_tax|DOLocationID|passenger_count|RatecodeID|extra|congestion_surcharge|trip_distance|   dropoff_datetime|fare_amount|tip_amount|source|improvement_surcharge|payment_type|store_and_fwd_flag|    pickup_datetime|total_amount|\n",
      "+------------+------------+--------+-------+------------+---------------+----------+-----+--------------------+-------------+-------------------+-----------+----------+------+---------------------+------------+------------------+-------------------+------------+\n",
      "|         264|         0.0|       2|    0.5|         264|            5.0|       1.0|  0.5|                 0.0|          0.0|2019-12-18 15:54:39|        3.5|      0.01| green|                  0.3|         1.0|                 N|2019-12-18 15:52:30|        4.81|\n",
      "|          66|         0.0|       2|    0.0|          65|            2.0|       5.0|  0.0|                 0.0|         1.28|2020-01-01 00:56:39|       20.0|      4.06| green|                  0.3|         1.0|                 N|2020-01-01 00:45:58|       24.36|\n",
      "|         181|         0.0|       2|    0.5|         228|            1.0|       1.0|  0.5|                 0.0|         2.47|2020-01-01 00:52:49|       10.5|      3.54| green|                  0.3|         1.0|                 N|2020-01-01 00:41:38|       15.34|\n",
      "|         129|         0.0|       1|    0.5|         263|            2.0|       1.0| 3.25|                2.75|          6.3|2020-01-01 01:14:21|       21.0|       0.0| green|                  0.3|         2.0|                 N|2020-01-01 00:52:46|       25.05|\n",
      "|         210|         0.0|       1|    0.5|         150|            1.0|       1.0|  0.5|                 0.0|          2.3|2020-01-01 00:30:56|       10.0|       0.0| green|                  0.3|         1.0|                 N|2020-01-01 00:19:57|        11.3|\n",
      "|          35|         0.0|       1|    0.5|          39|            1.0|       1.0|  0.5|                 0.0|          3.0|2020-01-01 01:09:54|       13.5|       0.0| green|                  0.3|         1.0|                 N|2020-01-01 00:52:33|        14.8|\n",
      "|          25|         0.0|       2|    0.5|          61|            1.0|       1.0|  0.5|                 0.0|         2.77|2020-01-01 00:22:16|       11.0|       0.0| green|                  0.3|         2.0|                 N|2020-01-01 00:10:18|        12.3|\n",
      "|         225|         0.0|       2|    0.5|          89|            1.0|       1.0|  0.5|                 0.0|         4.98|2020-01-01 01:29:45|       20.5|       0.0| green|                  0.3|         2.0|                 N|2020-01-01 01:03:14|        21.8|\n",
      "|         129|         0.0|       2|    0.5|         129|            1.0|       1.0|  0.5|                 0.0|         0.71|2020-01-01 00:09:48|        5.5|       0.0| green|                  0.3|         2.0|                 N|2020-01-01 00:04:11|         6.8|\n",
      "|         129|         0.0|       2|    0.5|          83|            1.0|       1.0|  0.5|                 0.0|          0.8|2020-01-01 00:32:16|        5.5|       0.0| green|                  0.3|         2.0|                 N|2020-01-01 00:25:52|         6.8|\n",
      "+------------+------------+--------+-------+------------+---------------+----------+-----+--------------------+-------------+-------------------+-----------+----------+------+---------------------+------------+------------------+-------------------+------------+\n",
      "only showing top 10 rows\n",
      "\n"
     ]
    }
   ],
   "source": [
    "df_trips.show(10)"
   ]
  },
  {
   "cell_type": "code",
   "execution_count": 29,
   "metadata": {},
   "outputs": [
    {
     "name": "stderr",
     "output_type": "stream",
     "text": [
      "[Stage 10:===============================================>        (11 + 2) / 13]\r"
     ]
    },
    {
     "name": "stdout",
     "output_type": "stream",
     "text": [
      "+------+\n",
      "|source|\n",
      "+------+\n",
      "| green|\n",
      "|yellow|\n",
      "+------+\n",
      "\n"
     ]
    },
    {
     "name": "stderr",
     "output_type": "stream",
     "text": [
      "                                                                                \r"
     ]
    }
   ],
   "source": [
    "df_trips.select(\"source\").distinct().show()"
   ]
  },
  {
   "cell_type": "code",
   "execution_count": 30,
   "metadata": {},
   "outputs": [
    {
     "name": "stderr",
     "output_type": "stream",
     "text": [
      "[Stage 13:===========================================>            (10 + 3) / 13]\r"
     ]
    },
    {
     "name": "stdout",
     "output_type": "stream",
     "text": [
      "+------+--------+\n",
      "|source|   count|\n",
      "+------+--------+\n",
      "| green| 2802931|\n",
      "|yellow|55553400|\n",
      "+------+--------+\n",
      "\n"
     ]
    },
    {
     "name": "stderr",
     "output_type": "stream",
     "text": [
      "                                                                                \r"
     ]
    }
   ],
   "source": [
    "df_trips.groupBy(\"source\").count().show()"
   ]
  },
  {
   "cell_type": "code",
   "execution_count": 31,
   "metadata": {},
   "outputs": [],
   "source": [
    "df_trips.createOrReplaceTempView(\"trips\")"
   ]
  },
  {
   "cell_type": "code",
   "execution_count": 32,
   "metadata": {},
   "outputs": [
    {
     "name": "stderr",
     "output_type": "stream",
     "text": [
      "[Stage 16:===================================================>    (12 + 1) / 13]\r"
     ]
    },
    {
     "name": "stdout",
     "output_type": "stream",
     "text": [
      "+------+--------+\n",
      "|source|   count|\n",
      "+------+--------+\n",
      "| green| 2802931|\n",
      "|yellow|55553400|\n",
      "+------+--------+\n",
      "\n"
     ]
    },
    {
     "name": "stderr",
     "output_type": "stream",
     "text": [
      "                                                                                \r"
     ]
    }
   ],
   "source": [
    "spark.sql(\"\"\"\n",
    "        SELECT source, COUNT(*) AS count\n",
    "        FROM trips\n",
    "        GROUP BY source\n",
    "\"\"\").show()"
   ]
  },
  {
   "cell_type": "code",
   "execution_count": 33,
   "metadata": {},
   "outputs": [
    {
     "data": {
      "text/plain": [
       "\"SELECT\\n    -- Reveneue grouping\\n    DATE_TRUNC('month', pickup_datetime) AS revenue_month,\\n    VendorID as vendor_id,\\n    --Note: For BQ use instead: DATE_TRUNC(pickup_datetime, month) AS revenue_month,\\n    source,\\n\\n    -- Revenue calculation\\n    SUM(mta_tax) AS revenue_monthly_mta_tax,\\n    SUM(tip_amount) AS revenue_monthly_tip_amount,\\n    SUM(tolls_amount) AS revenue_monthly_tolls_amount,\\n    SUM(extra) AS revenue_monthly_extra,\\n    SUM(improvement_surcharge) AS revenue_monthly_improvement_surcharge,\\n    SUM(total_amount) AS revenue_monthly_total_amount,\\n    SUM(fare_amount) AS revenue_monthly_fare,\\n    SUM(congestion_surcharge) AS revenue_monthly_congestion_surcharge,\\n\\n    -- Additional calculations\\n    AVG(passenger_count) AS avg_montly_passenger_count,\\n    AVG(trip_distance) AS avg_montly_trip_distance\\n\\n    FROM trips\\n    GROUP BY 1,2,3\""
      ]
     },
     "execution_count": 33,
     "metadata": {},
     "output_type": "execute_result"
    }
   ],
   "source": [
    "with open(\"vendor_monthly_revenue.sql\", 'r') as sql_file:\n",
    "    monthly_revenue = sql_file.read()\n",
    "monthly_revenue"
   ]
  },
  {
   "cell_type": "code",
   "execution_count": 34,
   "metadata": {},
   "outputs": [],
   "source": [
    "result = spark.sql(monthly_revenue)"
   ]
  },
  {
   "cell_type": "code",
   "execution_count": 36,
   "metadata": {},
   "outputs": [
    {
     "name": "stderr",
     "output_type": "stream",
     "text": [
      "                                                                                \r"
     ]
    }
   ],
   "source": [
    "result.write.parquet(\"data/report/vendor_monthly_revenue/\", mode=\"overwrite\")"
   ]
  },
  {
   "cell_type": "code",
   "execution_count": null,
   "metadata": {},
   "outputs": [
    {
     "name": "stderr",
     "output_type": "stream",
     "text": [
      "                                                                                \r"
     ]
    }
   ],
   "source": [
    "result.coalesce(1).write.parquet(\"data/report/coalesce_vendor_monthly_revenue/\")"
   ]
  },
  {
   "cell_type": "code",
   "execution_count": null,
   "metadata": {},
   "outputs": [],
   "source": []
  }
 ],
 "metadata": {
  "kernelspec": {
   "display_name": "base",
   "language": "python",
   "name": "python3"
  },
  "language_info": {
   "codemirror_mode": {
    "name": "ipython",
    "version": 3
   },
   "file_extension": ".py",
   "mimetype": "text/x-python",
   "name": "python",
   "nbconvert_exporter": "python",
   "pygments_lexer": "ipython3",
   "version": "3.11.7"
  }
 },
 "nbformat": 4,
 "nbformat_minor": 2
}
