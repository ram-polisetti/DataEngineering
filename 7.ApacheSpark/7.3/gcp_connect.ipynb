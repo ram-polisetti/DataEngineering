{
 "cells": [
  {
   "cell_type": "code",
   "execution_count": 76,
   "metadata": {},
   "outputs": [],
   "source": [
    "import pyspark\n",
    "from pyspark.sql import SparkSession"
   ]
  },
  {
   "cell_type": "code",
   "execution_count": 77,
   "metadata": {},
   "outputs": [],
   "source": [
    "spark = SparkSession.builder\\\n",
    "                    .master(\"local[*]\")\\\n",
    "                    .appName(\"SparkSQL\")\\\n",
    "                    .getOrCreate()"
   ]
  },
  {
   "cell_type": "code",
   "execution_count": 1,
   "metadata": {},
   "outputs": [
    {
     "name": "stdout",
     "output_type": "stream",
     "text": [
      "Usage: gsutil [-D] [-DD] [-h header]... [-i service_account] [-m] [-o section:flag=value]... [-q] [-u user_project] [command [opts...] args...]\n",
      "Available commands:\n",
      "  acl              Get, set, or change bucket and/or object ACLs\n",
      "  autoclass        Configure Autoclass feature\n",
      "  bucketpolicyonly Configure uniform bucket-level access\n",
      "  cat              Concatenate object content to stdout\n",
      "  compose          Concatenate a sequence of objects into a new composite object.\n",
      "  config           Obtain credentials and create configuration file\n",
      "  cors             Get or set a CORS configuration for one or more buckets\n",
      "  cp               Copy files and objects\n",
      "  defacl           Get, set, or change default ACL on buckets\n",
      "  defstorageclass  Get or set the default storage class on buckets\n",
      "  du               Display object size usage\n",
      "  hash             Calculate file hashes\n",
      "  help             Get help about commands and topics\n",
      "  hmac             CRUD operations on service account HMAC keys.\n",
      "  iam              Get, set, or change bucket and/or object IAM permissions.\n",
      "  kms              Configure Cloud KMS encryption\n",
      "  label            Get, set, or change the label configuration of a bucket.\n",
      "  lifecycle        Get or set lifecycle configuration for a bucket\n",
      "  logging          Configure or retrieve logging on buckets\n",
      "  ls               List providers, buckets, or objects\n",
      "  mb               Make buckets\n",
      "  mv               Move/rename objects\n",
      "  notification     Configure object change notification\n",
      "  pap              Configure public access prevention\n",
      "  perfdiag         Run performance diagnostic\n",
      "  rb               Remove buckets\n",
      "  requesterpays    Enable or disable requester pays for one or more buckets\n",
      "  retention        Provides utilities to interact with Retention Policy feature.\n",
      "  rewrite          Rewrite objects\n",
      "  rm               Remove objects\n",
      "  rpo              Configure replication\n",
      "  rsync            Synchronize content of two buckets/directories\n",
      "  setmeta          Set metadata on already uploaded objects\n",
      "  signurl          Create a signed URL\n",
      "  stat             Display object status\n",
      "  test             Run gsutil unit/integration tests (for developers)\n",
      "  ubla             Configure Uniform bucket-level access\n",
      "  update           Update to the latest gsutil release\n",
      "  version          Print version info about gsutil\n",
      "  versioning       Enable or suspend versioning for one or more buckets\n",
      "  web              Set a website configuration for a bucket\n",
      "\n",
      "Additional help topics:\n",
      "  acls             Working With Access Control Lists\n",
      "  crc32c           CRC32C and Installing crcmod\n",
      "  creds            Credential Types Supporting Various Use Cases\n",
      "  dev              Contributing Code to gsutil\n",
      "  encoding         Filename encoding and interoperability problems\n",
      "  metadata         Working With Object Metadata\n",
      "  naming           Object and Bucket Naming\n",
      "  options          Global Command Line Options\n",
      "  prod             Scripting Production Transfers\n",
      "  security         Security and Privacy Considerations\n",
      "  shim             Shim for Running gcloud storage\n",
      "  support          Google Cloud Storage Support\n",
      "  versions         Object Versioning and Concurrency Control\n",
      "\n",
      "Use gsutil help <command or topic> for detailed help."
     ]
    }
   ],
   "source": [
    "!gsutil"
   ]
  },
  {
   "cell_type": "code",
   "execution_count": null,
   "metadata": {},
   "outputs": [],
   "source": [
    "!gsutil-m cp -r gs://global-standard-411715/file-name.csv ."
   ]
  },
  {
   "cell_type": "markdown",
   "metadata": {},
   "source": []
  }
 ],
 "metadata": {
  "kernelspec": {
   "display_name": "base",
   "language": "python",
   "name": "python3"
  },
  "language_info": {
   "codemirror_mode": {
    "name": "ipython",
    "version": 3
   },
   "file_extension": ".py",
   "mimetype": "text/x-python",
   "name": "python",
   "nbconvert_exporter": "python",
   "pygments_lexer": "ipython3",
   "version": "3.11.7"
  }
 },
 "nbformat": 4,
 "nbformat_minor": 2
}
