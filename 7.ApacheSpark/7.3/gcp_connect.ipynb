{
 "cells": [
  {
   "cell_type": "code",
   "execution_count": 76,
   "metadata": {},
   "outputs": [],
   "source": [
    "import pyspark\n",
    "from pyspark.sql import SparkSession"
   ]
  },
  {
   "cell_type": "code",
   "execution_count": 77,
   "metadata": {},
   "outputs": [],
   "source": [
    "spark = SparkSession.builder\\\n",
    "                    .master(\"local[*]\")\\\n",
    "                    .appName(\"SparkSQL\")\\\n",
    "                    .getOrCreate()"
   ]
  },
  {
   "cell_type": "code",
   "execution_count": 1,
   "metadata": {},
   "outputs": [
    {
     "name": "stdout",
     "output_type": "stream",
     "text": [
      "Usage: gsutil [-D] [-DD] [-h header]... [-i service_account] [-m] [-o section:flag=value]... [-q] [-u user_project] [command [opts...] args...]\n",
      "Available commands:\n",
      "  acl              Get, set, or change bucket and/or object ACLs\n",
      "  autoclass        Configure Autoclass feature\n",
      "  bucketpolicyonly Configure uniform bucket-level access\n",
      "  cat              Concatenate object content to stdout\n",
      "  compose          Concatenate a sequence of objects into a new composite object.\n",
      "  config           Obtain credentials and create configuration file\n",
      "  cors             Get or set a CORS configuration for one or more buckets\n",
      "  cp               Copy files and objects\n",
      "  defacl           Get, set, or change default ACL on buckets\n",
      "  defstorageclass  Get or set the default storage class on buckets\n",
      "  du               Display object size usage\n",
      "  hash             Calculate file hashes\n",
      "  help             Get help about commands and topics\n",
      "  hmac             CRUD operations on service account HMAC keys.\n",
      "  iam              Get, set, or change bucket and/or object IAM permissions.\n",
      "  kms              Configure Cloud KMS encryption\n",
      "  label            Get, set, or change the label configuration of a bucket.\n",
      "  lifecycle        Get or set lifecycle configuration for a bucket\n",
      "  logging          Configure or retrieve logging on buckets\n",
      "  ls               List providers, buckets, or objects\n",
      "  mb               Make buckets\n",
      "  mv               Move/rename objects\n",
      "  notification     Configure object change notification\n",
      "  pap              Configure public access prevention\n",
      "  perfdiag         Run performance diagnostic\n",
      "  rb               Remove buckets\n",
      "  requesterpays    Enable or disable requester pays for one or more buckets\n",
      "  retention        Provides utilities to interact with Retention Policy feature.\n",
      "  rewrite          Rewrite objects\n",
      "  rm               Remove objects\n",
      "  rpo              Configure replication\n",
      "  rsync            Synchronize content of two buckets/directories\n",
      "  setmeta          Set metadata on already uploaded objects\n",
      "  signurl          Create a signed URL\n",
      "  stat             Display object status\n",
      "  test             Run gsutil unit/integration tests (for developers)\n",
      "  ubla             Configure Uniform bucket-level access\n",
      "  update           Update to the latest gsutil release\n",
      "  version          Print version info about gsutil\n",
      "  versioning       Enable or suspend versioning for one or more buckets\n",
      "  web              Set a website configuration for a bucket\n",
      "\n",
      "Additional help topics:\n",
      "  acls             Working With Access Control Lists\n",
      "  crc32c           CRC32C and Installing crcmod\n",
      "  creds            Credential Types Supporting Various Use Cases\n",
      "  dev              Contributing Code to gsutil\n",
      "  encoding         Filename encoding and interoperability problems\n",
      "  metadata         Working With Object Metadata\n",
      "  naming           Object and Bucket Naming\n",
      "  options          Global Command Line Options\n",
      "  prod             Scripting Production Transfers\n",
      "  security         Security and Privacy Considerations\n",
      "  shim             Shim for Running gcloud storage\n",
      "  support          Google Cloud Storage Support\n",
      "  versions         Object Versioning and Concurrency Control\n",
      "\n",
      "Use gsutil help <command or topic> for detailed help."
     ]
    }
   ],
   "source": [
    "!gsutil"
   ]
  },
  {
   "cell_type": "markdown",
   "metadata": {},
   "source": [
    "# Uploading data to GCS"
   ]
  },
  {
   "cell_type": "code",
   "execution_count": 3,
   "metadata": {},
   "outputs": [
    {
     "name": "stdout",
     "output_type": "stream",
     "text": [
      "Copying file://data/raw/green/2021/05/green_tripdata_2021_05.parquet [Content-Type=application/octet-stream]...\n",
      "Copying file://data/raw/green/2021/04/green_tripdata_2021_04.parquet [Content-Type=application/octet-stream]...\n",
      "Copying file://data/raw/green/2021/12/green_tripdata_2021_12.parquet [Content-Type=application/octet-stream]...\n",
      "Copying file://data/raw/green/2021/08/green_tripdata_2021_08.parquet [Content-Type=application/octet-stream]...\n",
      "Copying file://data/raw/green/2021/01/green_tripdata_2021_01.parquet [Content-Type=application/octet-stream]...\n",
      "Copying file://data/raw/green/2020/05/green_tripdata_2020_05.parquet [Content-Type=application/octet-stream]...\n",
      "Copying file://data/raw/green/2021/09/green_tripdata_2021_09.parquet [Content-Type=application/octet-stream]...\n",
      "Copying file://data/raw/green/2021/03/green_tripdata_2021_03.parquet [Content-Type=application/octet-stream]...\n",
      "Copying file://data/raw/green/2021/02/green_tripdata_2021_02.parquet [Content-Type=application/octet-stream]...\n",
      "Copying file://data/raw/green/2021/10/green_tripdata_2021_10.parquet [Content-Type=application/octet-stream]...\n",
      "Copying file://data/raw/green/2020/10/green_tripdata_2020_10.parquet [Content-Type=application/octet-stream]...\n",
      "Copying file://data/raw/green/2020/08/green_tripdata_2020_08.parquet [Content-Type=application/octet-stream]...\n",
      "Copying file://data/raw/green/2020/04/green_tripdata_2020_04.parquet [Content-Type=application/octet-stream]...\n",
      "Copying file://data/raw/green/2021/11/green_tripdata_2021_11.parquet [Content-Type=application/octet-stream]...\n",
      "Copying file://data/raw/green/2020/12/green_tripdata_2020_12.parquet [Content-Type=application/octet-stream]...\n",
      "Copying file://data/raw/green/2020/01/green_tripdata_2020_01.parquet [Content-Type=application/octet-stream]...\n",
      "Copying file://data/raw/green/2020/03/green_tripdata_2020_03.parquet [Content-Type=application/octet-stream]...\n",
      "Copying file://data/raw/green/2020/02/green_tripdata_2020_02.parquet [Content-Type=application/octet-stream]...\n",
      "Copying file://data/raw/green/2021/07/green_tripdata_2021_07.parquet [Content-Type=application/octet-stream]...\n",
      "Copying file://data/raw/green/2021/06/green_tripdata_2021_06.parquet [Content-Type=application/octet-stream]...\n",
      "Copying file://data/raw/green/2020/11/green_tripdata_2020_11.parquet [Content-Type=application/octet-stream]...\n",
      "Copying file://data/raw/green/2020/06/green_tripdata_2020_06.parquet [Content-Type=application/octet-stream]...\n",
      "Copying file://data/raw/green/2020/09/green_tripdata_2020_09.parquet [Content-Type=application/octet-stream]...\n",
      "Copying file://data/raw/green/2020/07/green_tripdata_2020_07.parquet [Content-Type=application/octet-stream]...\n",
      "Copying file://data/raw/yellow/2021/05/yellow_tripdata_2021_05.parquet [Content-Type=application/octet-stream]...\n",
      "Copying file://data/raw/yellow/2021/04/yellow_tripdata_2021_04.parquet [Content-Type=application/octet-stream]...\n",
      "Copying file://data/raw/yellow/2021/08/yellow_tripdata_2021_08.parquet [Content-Type=application/octet-stream]...\n",
      "Copying file://data/raw/yellow/2021/01/yellow_tripdata_2021_01.parquet [Content-Type=application/octet-stream]...\n",
      "Copying file://data/raw/yellow/2021/12/yellow_tripdata_2021_12.parquet [Content-Type=application/octet-stream]...\n",
      "Copying file://data/raw/yellow/2021/10/yellow_tripdata_2021_10.parquet [Content-Type=application/octet-stream]...\n",
      "Copying file://data/raw/yellow/2021/03/yellow_tripdata_2021_03.parquet [Content-Type=application/octet-stream]...\n",
      "Copying file://data/raw/yellow/2021/02/yellow_tripdata_2021_02.parquet [Content-Type=application/octet-stream]...\n",
      "Copying file://data/raw/yellow/2021/11/yellow_tripdata_2021_11.parquet [Content-Type=application/octet-stream]...\n",
      "Copying file://data/raw/yellow/2021/07/yellow_tripdata_2021_07.parquet [Content-Type=application/octet-stream]...\n",
      "Copying file://data/raw/yellow/2021/06/yellow_tripdata_2021_06.parquet [Content-Type=application/octet-stream]...\n",
      "Copying file://data/raw/yellow/2021/09/yellow_tripdata_2021_09.parquet [Content-Type=application/octet-stream]...\n",
      "Copying file://data/raw/yellow/2020/05/yellow_tripdata_2020_05.parquet [Content-Type=application/octet-stream]...\n",
      "Copying file://data/raw/yellow/2020/04/yellow_tripdata_2020_04.parquet [Content-Type=application/octet-stream]...\n",
      "Copying file://data/raw/yellow/2020/08/yellow_tripdata_2020_08.parquet [Content-Type=application/octet-stream]...\n",
      "Copying file://data/raw/yellow/2020/12/yellow_tripdata_2020_12.parquet [Content-Type=application/octet-stream]...\n",
      "Copying file://data/raw/yellow/2020/01/yellow_tripdata_2020_01.parquet [Content-Type=application/octet-stream]...\n",
      "Copying file://data/raw/yellow/2020/10/yellow_tripdata_2020_10.parquet [Content-Type=application/octet-stream]...\n",
      "Copying file://data/raw/yellow/2020/03/yellow_tripdata_2020_03.parquet [Content-Type=application/octet-stream]...\n",
      "Copying file://data/raw/yellow/2020/02/yellow_tripdata_2020_02.parquet [Content-Type=application/octet-stream]...\n",
      "Copying file://data/raw/yellow/2020/11/yellow_tripdata_2020_11.parquet [Content-Type=application/octet-stream]...\n",
      "Copying file://data/raw/yellow/2020/07/yellow_tripdata_2020_07.parquet [Content-Type=application/octet-stream]...\n",
      "Copying file://data/raw/yellow/2020/06/yellow_tripdata_2020_06.parquet [Content-Type=application/octet-stream]...\n",
      "Copying file://data/raw/yellow/2020/09/yellow_tripdata_2020_09.parquet [Content-Type=application/octet-stream]...\n",
      "\\ [48/48 files][862.6 MiB/862.6 MiB] 100% Done                                  \n",
      "Operation completed over 48 objects/862.6 MiB.                                   \n"
     ]
    }
   ],
   "source": [
    "!gsutil -m cp -r data/raw gs://terraform-412018-bucket/ny_taxi_data"
   ]
  },
  {
   "cell_type": "markdown",
   "metadata": {},
   "source": []
  }
 ],
 "metadata": {
  "kernelspec": {
   "display_name": "base",
   "language": "python",
   "name": "python3"
  },
  "language_info": {
   "codemirror_mode": {
    "name": "ipython",
    "version": 3
   },
   "file_extension": ".py",
   "mimetype": "text/x-python",
   "name": "python",
   "nbconvert_exporter": "python",
   "pygments_lexer": "ipython3",
   "version": "3.11.7"
  }
 },
 "nbformat": 4,
 "nbformat_minor": 2
}
