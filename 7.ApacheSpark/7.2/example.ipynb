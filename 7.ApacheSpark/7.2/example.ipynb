{
 "cells": [
  {
   "cell_type": "code",
   "execution_count": 1,
   "metadata": {},
   "outputs": [],
   "source": [
    "import pyspark\n",
    "from pyspark.sql import SparkSession"
   ]
  },
  {
   "cell_type": "code",
   "execution_count": 2,
   "metadata": {},
   "outputs": [
    {
     "name": "stderr",
     "output_type": "stream",
     "text": [
      "Setting default log level to \"WARN\".\n",
      "To adjust logging level use sc.setLogLevel(newLevel). For SparkR, use setLogLevel(newLevel).\n",
      "24/01/23 03:54:39 WARN NativeCodeLoader: Unable to load native-hadoop library for your platform... using builtin-java classes where applicable\n"
     ]
    }
   ],
   "source": [
    "spark = SparkSession.builder\\\n",
    "                    .master(\"local[*]\")\\\n",
    "                    .appName(\"test\")\\\n",
    "                    .getOrCreate()"
   ]
  },
  {
   "cell_type": "code",
   "execution_count": 6,
   "metadata": {},
   "outputs": [
    {
     "name": "stdout",
     "output_type": "stream",
     "text": [
      "--2024-01-23 03:57:28--  https://d37ci6vzurychx.cloudfront.net/trip-data/fhvhv_tripdata_2023-10.parquet\n",
      "Resolving d37ci6vzurychx.cloudfront.net (d37ci6vzurychx.cloudfront.net)... 52.85.39.117, 52.85.39.153, 52.85.39.97, ...\n",
      "Connecting to d37ci6vzurychx.cloudfront.net (d37ci6vzurychx.cloudfront.net)|52.85.39.117|:443... connected.\n",
      "HTTP request sent, awaiting response... 200 OK\n",
      "Length: 485826227 (463M) [binary/octet-stream]\n",
      "Saving to: ‘fhvhv_tripdata_2023-10.parquet’\n",
      "\n",
      "fhvhv_tripdata_2023 100%[===================>] 463.32M  47.3MB/s    in 11s     \n",
      "\n",
      "2024-01-23 03:57:40 (42.8 MB/s) - ‘fhvhv_tripdata_2023-10.parquet’ saved [485826227/485826227]\n",
      "\n"
     ]
    }
   ],
   "source": [
    "!wget https://d37ci6vzurychx.cloudfront.net/trip-data/fhvhv_tripdata_2023-10.parquet"
   ]
  },
  {
   "cell_type": "code",
   "execution_count": 7,
   "metadata": {},
   "outputs": [],
   "source": [
    "data = spark.read.parquet(\"yellow_tripdata_2023-10.parquet\")"
   ]
  },
  {
   "cell_type": "code",
   "execution_count": 8,
   "metadata": {},
   "outputs": [
    {
     "name": "stdout",
     "output_type": "stream",
     "text": [
      "+--------+--------------------+---------------------+---------------+-------------+----------+------------------+------------+------------+------------+-----------+-----+-------+----------+------------+---------------------+------------+--------------------+-----------+\n",
      "|VendorID|tpep_pickup_datetime|tpep_dropoff_datetime|passenger_count|trip_distance|RatecodeID|store_and_fwd_flag|PULocationID|DOLocationID|payment_type|fare_amount|extra|mta_tax|tip_amount|tolls_amount|improvement_surcharge|total_amount|congestion_surcharge|Airport_fee|\n",
      "+--------+--------------------+---------------------+---------------+-------------+----------+------------------+------------+------------+------------+-----------+-----+-------+----------+------------+---------------------+------------+--------------------+-----------+\n",
      "|       1| 2023-10-01 00:16:44|  2023-10-01 00:16:49|              1|          0.0|         1|                 N|         168|         168|           2|        3.0|  1.0|    0.5|       0.0|         0.0|                  1.0|         5.5|                 0.0|        0.0|\n",
      "|       1| 2023-10-01 00:23:24|  2023-10-01 00:23:47|              1|          0.0|         1|                 N|         168|         168|           2|        3.0|  1.0|    0.5|       0.0|         0.0|                  1.0|         5.5|                 0.0|        0.0|\n",
      "|       1| 2023-10-01 00:21:18|  2023-10-01 00:27:31|              1|          0.9|         1|                 N|         161|         186|           1|        6.5|  3.5|    0.5|       2.9|         0.0|                  1.0|        14.4|                 2.5|        0.0|\n",
      "|       1| 2023-10-01 00:17:39|  2023-10-01 00:17:47|              0|          0.0|         1|                 N|         255|         255|           3|        3.0|  1.0|    0.5|       0.0|         0.0|                  1.0|         5.5|                 0.0|        0.0|\n",
      "|       2| 2023-10-01 00:16:15|  2023-10-01 00:22:57|              2|         1.41|         1|                 N|         151|         239|           1|       10.0|  1.0|    0.5|       3.0|         0.0|                  1.0|        18.0|                 2.5|        0.0|\n",
      "|       2| 2023-10-01 00:33:14|  2023-10-01 00:52:12|              1|         3.15|         1|                 N|         238|         246|           1|       19.8|  1.0|    0.5|      4.46|         0.0|                  1.0|       29.26|                 2.5|        0.0|\n",
      "|       2| 2023-10-01 00:58:18|  2023-10-01 01:01:20|              2|         0.67|         1|                 N|          50|          50|           1|        5.8|  1.0|    0.5|      2.16|         0.0|                  1.0|       12.96|                 2.5|        0.0|\n",
      "|       2| 2023-10-01 00:11:29|  2023-10-01 00:32:55|              2|        14.93|         1|                 N|         208|         239|           1|       37.3|  1.0|    0.5|     14.77|        6.94|                  1.0|       65.76|                 2.5|       1.75|\n",
      "|       1| 2023-10-01 00:22:33|  2023-10-01 00:34:00|              0|          3.2|         1|                 N|          87|         249|           1|       16.3|  3.5|    0.5|      4.25|         0.0|                  1.0|       25.55|                 2.5|        0.0|\n",
      "|       1| 2023-10-01 00:39:47|  2023-10-01 00:48:48|              1|          1.3|         1|                 N|         125|         231|           1|       10.0|  3.5|    0.5|       2.0|         0.0|                  1.0|        17.0|                 2.5|        0.0|\n",
      "|       1| 2023-10-01 00:51:54|  2023-10-01 00:57:12|              0|          1.0|         1|                 N|         144|          13|           1|        7.9|  3.5|    0.5|       0.0|         0.0|                  1.0|        12.9|                 2.5|        0.0|\n",
      "|       2| 2023-10-01 00:11:49|  2023-10-01 00:33:31|              1|         2.52|         1|                 N|         232|         158|           1|       19.1|  1.0|    0.5|      4.82|         0.0|                  1.0|       28.92|                 2.5|        0.0|\n",
      "|       2| 2023-10-01 00:51:42|  2023-10-01 01:02:51|              2|         4.04|         1|                 N|         161|          42|           1|       17.7|  1.0|    0.5|      4.54|         0.0|                  1.0|       27.24|                 2.5|        0.0|\n",
      "|       2| 2023-10-01 00:16:19|  2023-10-01 00:27:27|              1|          1.7|         1|                 N|         148|         170|           1|       11.4|  1.0|    0.5|      3.28|         0.0|                  1.0|       19.68|                 2.5|        0.0|\n",
      "|       2| 2023-10-01 00:39:02|  2023-10-01 00:46:09|              1|         1.98|         1|                 N|         230|         140|           1|       10.7|  1.0|    0.5|       2.0|         0.0|                  1.0|        17.7|                 2.5|        0.0|\n",
      "|       1| 2023-10-01 00:22:11|  2023-10-01 00:37:00|              1|          1.8|         1|                 N|         164|          79|           1|       14.9|  3.5|    0.5|       2.0|         0.0|                  1.0|        21.9|                 2.5|        0.0|\n",
      "|       1| 2023-10-01 00:45:36|  2023-10-01 00:50:25|              1|          1.7|         1|                 N|         148|          65|           1|        9.3|  3.5|    0.5|      2.85|         0.0|                  1.0|       17.15|                 2.5|        0.0|\n",
      "|       2| 2023-10-01 00:02:46|  2023-10-01 00:09:52|              1|         1.88|         1|                 N|         142|         236|           1|       10.7|  1.0|    0.5|      2.36|         0.0|                  1.0|       18.06|                 2.5|        0.0|\n",
      "|       2| 2023-10-01 00:35:39|  2023-10-01 00:51:02|              1|         2.86|         1|                 N|         238|          42|           1|       17.7|  1.0|    0.5|      4.04|         0.0|                  1.0|       24.24|                 0.0|        0.0|\n",
      "|       2| 2023-09-30 23:59:49|  2023-10-01 00:21:59|              1|          3.8|         1|                 N|         249|          52|           1|       23.3|  1.0|    0.5|      5.66|         0.0|                  1.0|       33.96|                 2.5|        0.0|\n",
      "+--------+--------------------+---------------------+---------------+-------------+----------+------------------+------------+------------+------------+-----------+-----+-------+----------+------------+---------------------+------------+--------------------+-----------+\n",
      "only showing top 20 rows\n",
      "\n"
     ]
    }
   ],
   "source": [
    "data.show()"
   ]
  },
  {
   "cell_type": "code",
   "execution_count": 12,
   "metadata": {},
   "outputs": [
    {
     "data": {
      "text/plain": [
       "(3522285, 19)"
      ]
     },
     "execution_count": 12,
     "metadata": {},
     "output_type": "execute_result"
    }
   ],
   "source": [
    "# Number of rows\n",
    "data.count(), len(data.columns)"
   ]
  },
  {
   "cell_type": "code",
   "execution_count": 13,
   "metadata": {},
   "outputs": [
    {
     "data": {
      "text/plain": [
       "[Row(VendorID=1, tpep_pickup_datetime=datetime.datetime(2023, 10, 1, 0, 16, 44), tpep_dropoff_datetime=datetime.datetime(2023, 10, 1, 0, 16, 49), passenger_count=1, trip_distance=0.0, RatecodeID=1, store_and_fwd_flag='N', PULocationID=168, DOLocationID=168, payment_type=2, fare_amount=3.0, extra=1.0, mta_tax=0.5, tip_amount=0.0, tolls_amount=0.0, improvement_surcharge=1.0, total_amount=5.5, congestion_surcharge=0.0, Airport_fee=0.0),\n",
       " Row(VendorID=1, tpep_pickup_datetime=datetime.datetime(2023, 10, 1, 0, 23, 24), tpep_dropoff_datetime=datetime.datetime(2023, 10, 1, 0, 23, 47), passenger_count=1, trip_distance=0.0, RatecodeID=1, store_and_fwd_flag='N', PULocationID=168, DOLocationID=168, payment_type=2, fare_amount=3.0, extra=1.0, mta_tax=0.5, tip_amount=0.0, tolls_amount=0.0, improvement_surcharge=1.0, total_amount=5.5, congestion_surcharge=0.0, Airport_fee=0.0),\n",
       " Row(VendorID=1, tpep_pickup_datetime=datetime.datetime(2023, 10, 1, 0, 21, 18), tpep_dropoff_datetime=datetime.datetime(2023, 10, 1, 0, 27, 31), passenger_count=1, trip_distance=0.9, RatecodeID=1, store_and_fwd_flag='N', PULocationID=161, DOLocationID=186, payment_type=1, fare_amount=6.5, extra=3.5, mta_tax=0.5, tip_amount=2.9, tolls_amount=0.0, improvement_surcharge=1.0, total_amount=14.4, congestion_surcharge=2.5, Airport_fee=0.0),\n",
       " Row(VendorID=1, tpep_pickup_datetime=datetime.datetime(2023, 10, 1, 0, 17, 39), tpep_dropoff_datetime=datetime.datetime(2023, 10, 1, 0, 17, 47), passenger_count=0, trip_distance=0.0, RatecodeID=1, store_and_fwd_flag='N', PULocationID=255, DOLocationID=255, payment_type=3, fare_amount=3.0, extra=1.0, mta_tax=0.5, tip_amount=0.0, tolls_amount=0.0, improvement_surcharge=1.0, total_amount=5.5, congestion_surcharge=0.0, Airport_fee=0.0),\n",
       " Row(VendorID=2, tpep_pickup_datetime=datetime.datetime(2023, 10, 1, 0, 16, 15), tpep_dropoff_datetime=datetime.datetime(2023, 10, 1, 0, 22, 57), passenger_count=2, trip_distance=1.41, RatecodeID=1, store_and_fwd_flag='N', PULocationID=151, DOLocationID=239, payment_type=1, fare_amount=10.0, extra=1.0, mta_tax=0.5, tip_amount=3.0, tolls_amount=0.0, improvement_surcharge=1.0, total_amount=18.0, congestion_surcharge=2.5, Airport_fee=0.0)]"
      ]
     },
     "execution_count": 13,
     "metadata": {},
     "output_type": "execute_result"
    }
   ],
   "source": [
    "data.head(5)"
   ]
  },
  {
   "cell_type": "code",
   "execution_count": 14,
   "metadata": {},
   "outputs": [
    {
     "data": {
      "text/plain": [
       "StructType([StructField('VendorID', IntegerType(), True), StructField('tpep_pickup_datetime', TimestampNTZType(), True), StructField('tpep_dropoff_datetime', TimestampNTZType(), True), StructField('passenger_count', LongType(), True), StructField('trip_distance', DoubleType(), True), StructField('RatecodeID', LongType(), True), StructField('store_and_fwd_flag', StringType(), True), StructField('PULocationID', IntegerType(), True), StructField('DOLocationID', IntegerType(), True), StructField('payment_type', LongType(), True), StructField('fare_amount', DoubleType(), True), StructField('extra', DoubleType(), True), StructField('mta_tax', DoubleType(), True), StructField('tip_amount', DoubleType(), True), StructField('tolls_amount', DoubleType(), True), StructField('improvement_surcharge', DoubleType(), True), StructField('total_amount', DoubleType(), True), StructField('congestion_surcharge', DoubleType(), True), StructField('Airport_fee', DoubleType(), True)])"
      ]
     },
     "execution_count": 14,
     "metadata": {},
     "output_type": "execute_result"
    }
   ],
   "source": [
    "data.schema"
   ]
  },
  {
   "cell_type": "code",
   "execution_count": null,
   "metadata": {},
   "outputs": [],
   "source": []
  }
 ],
 "metadata": {
  "kernelspec": {
   "display_name": "base",
   "language": "python",
   "name": "python3"
  },
  "language_info": {
   "codemirror_mode": {
    "name": "ipython",
    "version": 3
   },
   "file_extension": ".py",
   "mimetype": "text/x-python",
   "name": "python",
   "nbconvert_exporter": "python",
   "pygments_lexer": "ipython3",
   "version": "3.11.7"
  }
 },
 "nbformat": 4,
 "nbformat_minor": 2
}
