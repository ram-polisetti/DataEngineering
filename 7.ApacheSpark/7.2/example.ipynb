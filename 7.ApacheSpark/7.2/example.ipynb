{
 "cells": [
  {
   "cell_type": "code",
   "execution_count": null,
   "metadata": {},
   "outputs": [],
   "source": [
    "import pyspark\n",
    "from pyspark.sql import SparkSession"
   ]
  },
  {
   "cell_type": "code",
   "execution_count": null,
   "metadata": {},
   "outputs": [],
   "source": [
    "spark = SparkSession.builder\\\n",
    "                    .master(\"local[*]\")\\\n",
    "                    .appName(\"test\")\\\n",
    "                    .getOrCreate()"
   ]
  },
  {
   "cell_type": "code",
   "execution_count": null,
   "metadata": {},
   "outputs": [],
   "source": [
    "!wget https://d37ci6vzurychx.cloudfront.net/trip-data/fhvhv_tripdata_2023-10.parquet"
   ]
  },
  {
   "cell_type": "code",
   "execution_count": null,
   "metadata": {},
   "outputs": [],
   "source": [
    "data = spark.read.parquet(\"fhvhv_tripdata_2023-10.parquet\")"
   ]
  },
  {
   "cell_type": "code",
   "execution_count": null,
   "metadata": {},
   "outputs": [],
   "source": [
    "data.show()"
   ]
  },
  {
   "cell_type": "code",
   "execution_count": null,
   "metadata": {},
   "outputs": [],
   "source": [
    "# Number of rows\n",
    "data.count(), len(data.columns)"
   ]
  },
  {
   "cell_type": "code",
   "execution_count": null,
   "metadata": {},
   "outputs": [],
   "source": [
    "data.head(5)"
   ]
  },
  {
   "cell_type": "code",
   "execution_count": null,
   "metadata": {},
   "outputs": [],
   "source": [
    "data.schema"
   ]
  },
  {
   "cell_type": "code",
   "execution_count": 109,
   "metadata": {},
   "outputs": [],
   "source": [
    "from pyspark.sql import types\n",
    "schema = types.StructType([\n",
    "        types.StructField('hvfhs_license_num', types.StringType(), True),\n",
    "        types.StructField('dispatching_base_num', types.StringType(), True),\n",
    "        types.StructField('originating_base_num', types.StringType(), True),\n",
    "        types.StructField('request_datetime', types.TimestampType(), True),\n",
    "        types.StructField('on_scene_datetime', types.TimestampType(), True),\n",
    "        types.StructField('pickup_datetime', types.TimestampType(), True),\n",
    "        types.StructField('dropoff_datetime', types.TimestampType(), True),\n",
    "        types.StructField('PULocationID', types.IntegerType(), True),\n",
    "        types.StructField('DOLocationID', types.IntegerType(), True),\n",
    "        types.StructField('trip_miles', types.DoubleType(), True),\n",
    "        types.StructField('trip_time', types.LongType(), True),\n",
    "        types.StructField('base_passenger_fare', types.DoubleType(), True),\n",
    "        types.StructField('tolls', types.DoubleType(), True),\n",
    "        types.StructField('bcf', types.DoubleType(), True),\n",
    "        types.StructField('sales_tax', types.DoubleType(), True),\n",
    "        types.StructField('congestion_surcharge', types.DoubleType(), True),\n",
    "        types.StructField('airport_fee', types.DoubleType(), True),\n",
    "        types.StructField('tips', types.DoubleType(), True),\n",
    "        types.StructField('driver_pay', types.DoubleType(), True),\n",
    "        types.StructField('shared_request_flag', types.StringType(), True),\n",
    "        types.StructField('shared_match_flag', types.StringType(), True),\n",
    "        types.StructField('access_a_ride_flag', types.StringType(), True),\n",
    "        types.StructField('wav_request_flag', types.StringType(), True),\n",
    "        types.StructField('wav_match_flag', types.StringType(), True)\n",
    "])"
   ]
  },
  {
   "cell_type": "code",
   "execution_count": null,
   "metadata": {},
   "outputs": [],
   "source": [
    "# data = spark.read.parquet(\"fhvhv_tripdata_2023-10.parquet\", schema=schema, header=True)"
   ]
  },
  {
   "cell_type": "code",
   "execution_count": 110,
   "metadata": {},
   "outputs": [],
   "source": [
    "data = spark.read.schema(schema).parquet(\"fhvhv_tripdata_2023-10.parquet\")"
   ]
  },
  {
   "cell_type": "code",
   "execution_count": null,
   "metadata": {},
   "outputs": [],
   "source": [
    "# data = spark.read\\\n",
    "#     .option(\"header\", True)\\\n",
    "#     .schema(schema)\\\n",
    "#     .csv(\"fhvhv_tripdata_2023-10.parquet\")"
   ]
  },
  {
   "cell_type": "code",
   "execution_count": 113,
   "metadata": {},
   "outputs": [
    {
     "data": {
      "text/plain": [
       "[Row(hvfhs_license_num='HV0003', dispatching_base_num='B03404', originating_base_num='B03404', request_datetime=datetime.datetime(2023, 10, 1, 0, 36, 27), on_scene_datetime=datetime.datetime(2023, 10, 1, 0, 38, 11), pickup_datetime=datetime.datetime(2023, 10, 1, 0, 39, 13), dropoff_datetime=datetime.datetime(2023, 10, 1, 1, 6, 47), PULocationID=24, DOLocationID=114, trip_miles=6.78, trip_time=1654, base_passenger_fare=29.72, tolls=0.0, bcf=0.82, sales_tax=2.64, congestion_surcharge=2.75, airport_fee=0.0, tips=0.0, driver_pay=24.46, shared_request_flag='N', shared_match_flag='N', access_a_ride_flag=' ', wav_request_flag='N', wav_match_flag='N'),\n",
       " Row(hvfhs_license_num='HV0003', dispatching_base_num='B03404', originating_base_num='B03404', request_datetime=datetime.datetime(2023, 10, 1, 0, 2, 41), on_scene_datetime=datetime.datetime(2023, 10, 1, 0, 6, 24), pickup_datetime=datetime.datetime(2023, 10, 1, 0, 7, 30), dropoff_datetime=datetime.datetime(2023, 10, 1, 0, 31, 52), PULocationID=258, DOLocationID=255, trip_miles=9.0, trip_time=1462, base_passenger_fare=31.26, tolls=0.0, bcf=0.86, sales_tax=2.77, congestion_surcharge=0.0, airport_fee=0.0, tips=0.0, driver_pay=25.57, shared_request_flag='N', shared_match_flag='N', access_a_ride_flag=' ', wav_request_flag='N', wav_match_flag='N'),\n",
       " Row(hvfhs_license_num='HV0003', dispatching_base_num='B03404', originating_base_num='B03404', request_datetime=datetime.datetime(2023, 10, 1, 0, 29, 22), on_scene_datetime=datetime.datetime(2023, 10, 1, 0, 33, 52), pickup_datetime=datetime.datetime(2023, 10, 1, 0, 34, 48), dropoff_datetime=datetime.datetime(2023, 10, 1, 1, 10, 17), PULocationID=255, DOLocationID=265, trip_miles=22.45, trip_time=2129, base_passenger_fare=80.81, tolls=6.94, bcf=2.41, sales_tax=7.79, congestion_surcharge=0.0, airport_fee=0.0, tips=0.0, driver_pay=55.64, shared_request_flag='N', shared_match_flag='N', access_a_ride_flag=' ', wav_request_flag='N', wav_match_flag='N'),\n",
       " Row(hvfhs_license_num='HV0003', dispatching_base_num='B03404', originating_base_num='B03404', request_datetime=datetime.datetime(2023, 9, 30, 23, 57), on_scene_datetime=datetime.datetime(2023, 10, 1, 0, 3, 35), pickup_datetime=datetime.datetime(2023, 10, 1, 0, 4, 4), dropoff_datetime=datetime.datetime(2023, 10, 1, 0, 14, 15), PULocationID=256, DOLocationID=148, trip_miles=2.32, trip_time=611, base_passenger_fare=18.96, tolls=0.0, bcf=0.52, sales_tax=1.68, congestion_surcharge=2.75, airport_fee=0.0, tips=3.58, driver_pay=20.4, shared_request_flag='N', shared_match_flag='N', access_a_ride_flag=' ', wav_request_flag='N', wav_match_flag='N'),\n",
       " Row(hvfhs_license_num='HV0003', dispatching_base_num='B03404', originating_base_num='B03404', request_datetime=datetime.datetime(2023, 10, 1, 0, 14, 45), on_scene_datetime=datetime.datetime(2023, 10, 1, 0, 24, 24), pickup_datetime=datetime.datetime(2023, 10, 1, 0, 24, 24), dropoff_datetime=datetime.datetime(2023, 10, 1, 0, 40, 56), PULocationID=148, DOLocationID=141, trip_miles=4.86, trip_time=992, base_passenger_fare=36.63, tolls=0.0, bcf=1.01, sales_tax=3.25, congestion_surcharge=2.75, airport_fee=0.0, tips=0.0, driver_pay=31.62, shared_request_flag='N', shared_match_flag='N', access_a_ride_flag=' ', wav_request_flag='N', wav_match_flag='N')]"
      ]
     },
     "execution_count": 113,
     "metadata": {},
     "output_type": "execute_result"
    }
   ],
   "source": [
    "data.head(5)"
   ]
  },
  {
   "cell_type": "code",
   "execution_count": 114,
   "metadata": {},
   "outputs": [
    {
     "name": "stdout",
     "output_type": "stream",
     "text": [
      "+-----------------+--------------------+--------------------+-------------------+-------------------+-------------------+-------------------+------------+------------+----------+---------+-------------------+-----+----+---------+--------------------+-----------+----+----------+-------------------+-----------------+------------------+----------------+--------------+\n",
      "|hvfhs_license_num|dispatching_base_num|originating_base_num|   request_datetime|  on_scene_datetime|    pickup_datetime|   dropoff_datetime|PULocationID|DOLocationID|trip_miles|trip_time|base_passenger_fare|tolls| bcf|sales_tax|congestion_surcharge|airport_fee|tips|driver_pay|shared_request_flag|shared_match_flag|access_a_ride_flag|wav_request_flag|wav_match_flag|\n",
      "+-----------------+--------------------+--------------------+-------------------+-------------------+-------------------+-------------------+------------+------------+----------+---------+-------------------+-----+----+---------+--------------------+-----------+----+----------+-------------------+-----------------+------------------+----------------+--------------+\n",
      "|           HV0003|              B03404|              B03404|2023-10-01 00:36:27|2023-10-01 00:38:11|2023-10-01 00:39:13|2023-10-01 01:06:47|          24|         114|      6.78|     1654|              29.72|  0.0|0.82|     2.64|                2.75|        0.0| 0.0|     24.46|                  N|                N|                  |               N|             N|\n",
      "|           HV0003|              B03404|              B03404|2023-10-01 00:02:41|2023-10-01 00:06:24|2023-10-01 00:07:30|2023-10-01 00:31:52|         258|         255|       9.0|     1462|              31.26|  0.0|0.86|     2.77|                 0.0|        0.0| 0.0|     25.57|                  N|                N|                  |               N|             N|\n",
      "|           HV0003|              B03404|              B03404|2023-10-01 00:29:22|2023-10-01 00:33:52|2023-10-01 00:34:48|2023-10-01 01:10:17|         255|         265|     22.45|     2129|              80.81| 6.94|2.41|     7.79|                 0.0|        0.0| 0.0|     55.64|                  N|                N|                  |               N|             N|\n",
      "|           HV0003|              B03404|              B03404|2023-09-30 23:57:00|2023-10-01 00:03:35|2023-10-01 00:04:04|2023-10-01 00:14:15|         256|         148|      2.32|      611|              18.96|  0.0|0.52|     1.68|                2.75|        0.0|3.58|      20.4|                  N|                N|                  |               N|             N|\n",
      "|           HV0003|              B03404|              B03404|2023-10-01 00:14:45|2023-10-01 00:24:24|2023-10-01 00:24:24|2023-10-01 00:40:56|         148|         141|      4.86|      992|              36.63|  0.0|1.01|     3.25|                2.75|        0.0| 0.0|     31.62|                  N|                N|                  |               N|             N|\n",
      "|           HV0003|              B03404|              B03404|2023-10-01 00:22:07|2023-10-01 00:24:14|2023-10-01 00:24:29|2023-10-01 00:56:21|         231|         146|     10.32|     1912|              48.53|  0.0|1.33|     4.31|                2.75|        0.0| 0.0|     35.03|                  N|                N|                  |               N|             N|\n",
      "|           HV0003|              B03404|              B03404|2023-10-01 00:06:17|2023-10-01 00:08:07|2023-10-01 00:08:45|2023-10-01 00:31:35|         211|         145|      5.91|     1370|              40.06|  0.0| 1.1|     3.56|                2.75|        0.0| 0.0|     37.25|                  N|                N|                  |               N|             N|\n",
      "|           HV0003|              B03404|              B03404|2023-10-01 00:46:24|2023-10-01 00:49:07|2023-10-01 00:50:58|2023-10-01 01:00:27|          80|         217|      1.17|      569|              18.89|  0.0|0.52|     1.68|                 0.0|        0.0| 0.0|     20.09|                  N|                N|                  |               N|             N|\n",
      "|           HV0003|              B03404|              B03404|2023-10-01 00:21:47|2023-10-01 00:23:26|2023-10-01 00:25:27|2023-10-01 00:51:10|         236|         259|     12.63|     1543|              36.12|  0.0|0.99|     3.21|                2.75|        0.0| 0.0|     31.11|                  N|                N|                  |               N|             N|\n",
      "|           HV0003|              B03404|              B03404|2023-10-01 00:23:29|2023-10-01 00:25:01|2023-10-01 00:26:54|2023-10-01 00:41:07|          33|         233|      5.74|      853|              35.14|  0.0|0.97|     3.12|                2.75|        0.0| 0.0|     32.81|                  N|                N|                  |               N|             N|\n",
      "|           HV0005|              B03406|                null|2023-10-01 00:19:36|               null|2023-10-01 00:22:21|2023-10-01 00:29:54|           7|         226|      0.87|      453|               7.54|  0.0|0.21|     0.67|                 0.0|        0.0| 0.0|      5.47|                  N|                N|                 N|               N|             N|\n",
      "|           HV0005|              B03406|                null|2023-10-01 00:32:26|               null|2023-10-01 00:34:40|2023-10-01 00:53:44|         146|          65|     6.819|     1144|               26.7|  0.0|0.73|     2.37|                 0.0|        0.0| 0.0|     19.87|                  N|                N|                 N|               N|             N|\n",
      "|           HV0005|              B03406|                null|2023-10-01 00:09:37|               null|2023-10-01 00:17:35|2023-10-01 00:44:42|          40|          37|     4.448|     1627|              26.64|  0.0|0.73|     2.36|                 0.0|        0.0|5.95|     21.33|                  N|                N|                 N|               N|             N|\n",
      "|           HV0005|              B03406|                null|2023-10-01 00:45:21|               null|2023-10-01 00:52:09|2023-10-01 01:14:37|          37|         106|     4.084|     1348|              23.48|  0.0|0.65|     2.08|                 0.0|        0.0| 0.0|     18.19|                  N|                N|                 N|               N|             N|\n",
      "|           HV0003|              B03404|              B03404|2023-10-01 00:00:22|2023-10-01 00:01:57|2023-10-01 00:02:04|2023-10-01 00:22:46|          74|         247|      6.45|     1242|              22.35|  0.0|0.61|     1.98|                 0.0|        0.0| 0.0|     22.32|                  N|                N|                  |               N|             N|\n",
      "|           HV0003|              B03404|              B03404|2023-10-01 00:17:24|2023-10-01 00:23:45|2023-10-01 00:25:14|2023-10-01 00:41:55|         247|          51|      9.61|     1001|              18.08|  0.0| 0.5|      1.6|                 0.0|        0.0| 0.0|     24.21|                  Y|                N|                  |               N|             N|\n",
      "|           HV0003|              B03404|              B03404|2023-10-01 00:40:07|2023-10-01 00:48:41|2023-10-01 00:48:51|2023-10-01 00:58:12|          51|         212|       5.4|      561|              13.44|  0.0|0.37|     1.19|                 0.0|        0.0| 0.0|     12.54|                  N|                N|                  |               N|             N|\n",
      "|           HV0003|              B03404|              B03404|2023-10-01 00:42:44|2023-10-01 00:51:36|2023-10-01 00:53:38|2023-10-01 01:07:49|          66|         257|      4.91|      851|              25.04|  0.0|0.69|     2.22|                 0.0|        0.0| 0.0|     14.46|                  N|                N|                  |               N|             N|\n",
      "|           HV0003|              B03404|              B03404|2023-10-01 00:52:36|2023-10-01 00:55:08|2023-10-01 00:55:42|2023-10-01 01:05:58|         191|          19|      2.25|      616|              11.15|  0.0|0.31|     0.99|                 0.0|        0.0| 0.0|      8.98|                  N|                N|                  |               N|             N|\n",
      "|           HV0005|              B03406|                null|2023-10-01 00:04:07|               null|2023-10-01 00:13:32|2023-10-01 00:21:11|         234|         170|     0.753|      459|              10.45|  0.0|0.29|     0.93|                2.75|        0.0| 0.0|      9.82|                  N|                N|                 N|               N|             N|\n",
      "+-----------------+--------------------+--------------------+-------------------+-------------------+-------------------+-------------------+------------+------------+----------+---------+-------------------+-----+----+---------+--------------------+-----------+----+----------+-------------------+-----------------+------------------+----------------+--------------+\n",
      "only showing top 20 rows\n",
      "\n"
     ]
    }
   ],
   "source": [
    "data.show()"
   ]
  },
  {
   "cell_type": "code",
   "execution_count": 115,
   "metadata": {},
   "outputs": [
    {
     "data": {
      "text/plain": [
       "['hvfhs_license_num',\n",
       " 'dispatching_base_num',\n",
       " 'originating_base_num',\n",
       " 'request_datetime',\n",
       " 'on_scene_datetime',\n",
       " 'pickup_datetime',\n",
       " 'dropoff_datetime',\n",
       " 'PULocationID',\n",
       " 'DOLocationID',\n",
       " 'trip_miles',\n",
       " 'trip_time',\n",
       " 'base_passenger_fare',\n",
       " 'tolls',\n",
       " 'bcf',\n",
       " 'sales_tax',\n",
       " 'congestion_surcharge',\n",
       " 'airport_fee',\n",
       " 'tips',\n",
       " 'driver_pay',\n",
       " 'shared_request_flag',\n",
       " 'shared_match_flag',\n",
       " 'access_a_ride_flag',\n",
       " 'wav_request_flag',\n",
       " 'wav_match_flag']"
      ]
     },
     "execution_count": 115,
     "metadata": {},
     "output_type": "execute_result"
    }
   ],
   "source": [
    "data.columns"
   ]
  },
  {
   "cell_type": "code",
   "execution_count": 131,
   "metadata": {},
   "outputs": [],
   "source": [
    "data = data.repartition(30)"
   ]
  },
  {
   "cell_type": "code",
   "execution_count": 132,
   "metadata": {},
   "outputs": [
    {
     "name": "stderr",
     "output_type": "stream",
     "text": [
      "                                                                                \r"
     ]
    }
   ],
   "source": [
    "data.write.parquet('fhvhv/2023/10', mode='overwrite')"
   ]
  },
  {
   "cell_type": "code",
   "execution_count": 133,
   "metadata": {},
   "outputs": [
    {
     "name": "stdout",
     "output_type": "stream",
     "text": [
      "example.ipynb  fhvhv_tripdata_2023-10.parquet  image.png\n",
      "fhvhv\t       image-1.png\t\t       readme.md\n"
     ]
    }
   ],
   "source": [
    "!ls"
   ]
  },
  {
   "cell_type": "code",
   "execution_count": 137,
   "metadata": {},
   "outputs": [
    {
     "name": "stdout",
     "output_type": "stream",
     "text": [
      "-rw-rw-r-- 1 ramcharansatyasaitejapolisetti ramcharansatyasaitejapolisetti 464M Dec 18 14:32 fhvhv_tripdata_2023-10.parquet\n"
     ]
    }
   ],
   "source": [
    "!ls -lh fhvhv_tripdata_2023-10.parquet"
   ]
  },
  {
   "cell_type": "code",
   "execution_count": 135,
   "metadata": {},
   "outputs": [
    {
     "name": "stdout",
     "output_type": "stream",
     "text": [
      "total 858M\n",
      "-rw-r--r-- 1 ramcharansatyasaitejapolisetti ramcharansatyasaitejapolisetti   0 Jan 23 05:03 _SUCCESS\n",
      "-rw-r--r-- 1 ramcharansatyasaitejapolisetti ramcharansatyasaitejapolisetti 29M Jan 23 05:03 part-00000-8c740551-cfaf-4616-8f2d-b4e52cff4157-c000.snappy.parquet\n",
      "-rw-r--r-- 1 ramcharansatyasaitejapolisetti ramcharansatyasaitejapolisetti 29M Jan 23 05:03 part-00001-8c740551-cfaf-4616-8f2d-b4e52cff4157-c000.snappy.parquet\n",
      "-rw-r--r-- 1 ramcharansatyasaitejapolisetti ramcharansatyasaitejapolisetti 29M Jan 23 05:03 part-00002-8c740551-cfaf-4616-8f2d-b4e52cff4157-c000.snappy.parquet\n",
      "-rw-r--r-- 1 ramcharansatyasaitejapolisetti ramcharansatyasaitejapolisetti 29M Jan 23 05:03 part-00003-8c740551-cfaf-4616-8f2d-b4e52cff4157-c000.snappy.parquet\n",
      "-rw-r--r-- 1 ramcharansatyasaitejapolisetti ramcharansatyasaitejapolisetti 29M Jan 23 05:03 part-00004-8c740551-cfaf-4616-8f2d-b4e52cff4157-c000.snappy.parquet\n",
      "-rw-r--r-- 1 ramcharansatyasaitejapolisetti ramcharansatyasaitejapolisetti 29M Jan 23 05:03 part-00005-8c740551-cfaf-4616-8f2d-b4e52cff4157-c000.snappy.parquet\n",
      "-rw-r--r-- 1 ramcharansatyasaitejapolisetti ramcharansatyasaitejapolisetti 29M Jan 23 05:03 part-00006-8c740551-cfaf-4616-8f2d-b4e52cff4157-c000.snappy.parquet\n",
      "-rw-r--r-- 1 ramcharansatyasaitejapolisetti ramcharansatyasaitejapolisetti 29M Jan 23 05:03 part-00007-8c740551-cfaf-4616-8f2d-b4e52cff4157-c000.snappy.parquet\n",
      "-rw-r--r-- 1 ramcharansatyasaitejapolisetti ramcharansatyasaitejapolisetti 29M Jan 23 05:03 part-00008-8c740551-cfaf-4616-8f2d-b4e52cff4157-c000.snappy.parquet\n",
      "-rw-r--r-- 1 ramcharansatyasaitejapolisetti ramcharansatyasaitejapolisetti 29M Jan 23 05:03 part-00009-8c740551-cfaf-4616-8f2d-b4e52cff4157-c000.snappy.parquet\n",
      "-rw-r--r-- 1 ramcharansatyasaitejapolisetti ramcharansatyasaitejapolisetti 29M Jan 23 05:03 part-00010-8c740551-cfaf-4616-8f2d-b4e52cff4157-c000.snappy.parquet\n",
      "-rw-r--r-- 1 ramcharansatyasaitejapolisetti ramcharansatyasaitejapolisetti 29M Jan 23 05:03 part-00011-8c740551-cfaf-4616-8f2d-b4e52cff4157-c000.snappy.parquet\n",
      "-rw-r--r-- 1 ramcharansatyasaitejapolisetti ramcharansatyasaitejapolisetti 29M Jan 23 05:03 part-00012-8c740551-cfaf-4616-8f2d-b4e52cff4157-c000.snappy.parquet\n",
      "-rw-r--r-- 1 ramcharansatyasaitejapolisetti ramcharansatyasaitejapolisetti 29M Jan 23 05:03 part-00013-8c740551-cfaf-4616-8f2d-b4e52cff4157-c000.snappy.parquet\n",
      "-rw-r--r-- 1 ramcharansatyasaitejapolisetti ramcharansatyasaitejapolisetti 29M Jan 23 05:03 part-00014-8c740551-cfaf-4616-8f2d-b4e52cff4157-c000.snappy.parquet\n",
      "-rw-r--r-- 1 ramcharansatyasaitejapolisetti ramcharansatyasaitejapolisetti 29M Jan 23 05:03 part-00015-8c740551-cfaf-4616-8f2d-b4e52cff4157-c000.snappy.parquet\n",
      "-rw-r--r-- 1 ramcharansatyasaitejapolisetti ramcharansatyasaitejapolisetti 29M Jan 23 05:03 part-00016-8c740551-cfaf-4616-8f2d-b4e52cff4157-c000.snappy.parquet\n",
      "-rw-r--r-- 1 ramcharansatyasaitejapolisetti ramcharansatyasaitejapolisetti 29M Jan 23 05:03 part-00017-8c740551-cfaf-4616-8f2d-b4e52cff4157-c000.snappy.parquet\n",
      "-rw-r--r-- 1 ramcharansatyasaitejapolisetti ramcharansatyasaitejapolisetti 29M Jan 23 05:03 part-00018-8c740551-cfaf-4616-8f2d-b4e52cff4157-c000.snappy.parquet\n",
      "-rw-r--r-- 1 ramcharansatyasaitejapolisetti ramcharansatyasaitejapolisetti 29M Jan 23 05:03 part-00019-8c740551-cfaf-4616-8f2d-b4e52cff4157-c000.snappy.parquet\n",
      "-rw-r--r-- 1 ramcharansatyasaitejapolisetti ramcharansatyasaitejapolisetti 29M Jan 23 05:03 part-00020-8c740551-cfaf-4616-8f2d-b4e52cff4157-c000.snappy.parquet\n",
      "-rw-r--r-- 1 ramcharansatyasaitejapolisetti ramcharansatyasaitejapolisetti 29M Jan 23 05:03 part-00021-8c740551-cfaf-4616-8f2d-b4e52cff4157-c000.snappy.parquet\n",
      "-rw-r--r-- 1 ramcharansatyasaitejapolisetti ramcharansatyasaitejapolisetti 29M Jan 23 05:03 part-00022-8c740551-cfaf-4616-8f2d-b4e52cff4157-c000.snappy.parquet\n",
      "-rw-r--r-- 1 ramcharansatyasaitejapolisetti ramcharansatyasaitejapolisetti 29M Jan 23 05:03 part-00023-8c740551-cfaf-4616-8f2d-b4e52cff4157-c000.snappy.parquet\n",
      "-rw-r--r-- 1 ramcharansatyasaitejapolisetti ramcharansatyasaitejapolisetti 29M Jan 23 05:03 part-00024-8c740551-cfaf-4616-8f2d-b4e52cff4157-c000.snappy.parquet\n",
      "-rw-r--r-- 1 ramcharansatyasaitejapolisetti ramcharansatyasaitejapolisetti 29M Jan 23 05:03 part-00025-8c740551-cfaf-4616-8f2d-b4e52cff4157-c000.snappy.parquet\n",
      "-rw-r--r-- 1 ramcharansatyasaitejapolisetti ramcharansatyasaitejapolisetti 29M Jan 23 05:03 part-00026-8c740551-cfaf-4616-8f2d-b4e52cff4157-c000.snappy.parquet\n",
      "-rw-r--r-- 1 ramcharansatyasaitejapolisetti ramcharansatyasaitejapolisetti 29M Jan 23 05:03 part-00027-8c740551-cfaf-4616-8f2d-b4e52cff4157-c000.snappy.parquet\n",
      "-rw-r--r-- 1 ramcharansatyasaitejapolisetti ramcharansatyasaitejapolisetti 29M Jan 23 05:03 part-00028-8c740551-cfaf-4616-8f2d-b4e52cff4157-c000.snappy.parquet\n",
      "-rw-r--r-- 1 ramcharansatyasaitejapolisetti ramcharansatyasaitejapolisetti 29M Jan 23 05:03 part-00029-8c740551-cfaf-4616-8f2d-b4e52cff4157-c000.snappy.parquet\n"
     ]
    }
   ],
   "source": [
    "!ls -lh fhvhv/2023/10"
   ]
  },
  {
   "cell_type": "code",
   "execution_count": 138,
   "metadata": {},
   "outputs": [],
   "source": [
    "df = spark.read.parquet('fhvhv/2023/10')"
   ]
  },
  {
   "cell_type": "code",
   "execution_count": 139,
   "metadata": {},
   "outputs": [
    {
     "data": {
      "text/plain": [
       "DataFrame[hvfhs_license_num: string, dispatching_base_num: string, originating_base_num: string, request_datetime: timestamp, on_scene_datetime: timestamp, pickup_datetime: timestamp, dropoff_datetime: timestamp, PULocationID: int, DOLocationID: int, trip_miles: double, trip_time: bigint, base_passenger_fare: double, tolls: double, bcf: double, sales_tax: double, congestion_surcharge: double, airport_fee: double, tips: double, driver_pay: double, shared_request_flag: string, shared_match_flag: string, access_a_ride_flag: string, wav_request_flag: string, wav_match_flag: string]"
      ]
     },
     "execution_count": 139,
     "metadata": {},
     "output_type": "execute_result"
    }
   ],
   "source": [
    "df"
   ]
  },
  {
   "cell_type": "code",
   "execution_count": 140,
   "metadata": {},
   "outputs": [
    {
     "name": "stdout",
     "output_type": "stream",
     "text": [
      "+-----------------+--------------------+--------------------+-------------------+-------------------+-------------------+-------------------+------------+------------+----------+---------+-------------------+-----+----+---------+--------------------+-----------+----+----------+-------------------+-----------------+------------------+----------------+--------------+\n",
      "|hvfhs_license_num|dispatching_base_num|originating_base_num|   request_datetime|  on_scene_datetime|    pickup_datetime|   dropoff_datetime|PULocationID|DOLocationID|trip_miles|trip_time|base_passenger_fare|tolls| bcf|sales_tax|congestion_surcharge|airport_fee|tips|driver_pay|shared_request_flag|shared_match_flag|access_a_ride_flag|wav_request_flag|wav_match_flag|\n",
      "+-----------------+--------------------+--------------------+-------------------+-------------------+-------------------+-------------------+------------+------------+----------+---------+-------------------+-----+----+---------+--------------------+-----------+----+----------+-------------------+-----------------+------------------+----------------+--------------+\n",
      "|           HV0005|              B03406|                null|2023-09-30 23:58:03|               null|2023-10-01 00:06:24|2023-10-01 00:36:35|         132|          74|    17.152|     1811|              46.08| 6.49|1.51|     4.89|                 0.0|        2.5| 0.0|     39.85|                  N|                N|                 N|               N|             N|\n",
      "|           HV0003|              B03404|              B03404|2023-10-04 06:59:33|2023-10-04 07:01:06|2023-10-04 07:04:47|2023-10-04 07:15:44|         143|         237|      1.81|      657|               21.6|  0.0|0.59|     1.92|                2.75|        0.0| 0.0|     15.84|                  N|                N|                  |               N|             N|\n",
      "|           HV0003|              B03404|              B03404|2023-10-04 04:34:04|2023-10-04 04:47:17|2023-10-04 04:47:17|2023-10-04 04:52:07|         200|         220|      1.12|      290|              28.62|  0.0|0.79|     2.54|                 0.0|        0.0| 0.0|     14.38|                  Y|                N|                  |               N|             N|\n",
      "|           HV0003|              B03404|              B03404|2023-10-09 08:29:21|2023-10-09 08:30:37|2023-10-09 08:32:18|2023-10-09 08:43:57|          69|         126|      1.82|      699|               12.5|  0.0|0.34|     1.11|                 0.0|        0.0| 0.0|      8.96|                  N|                N|                  |               N|             N|\n",
      "|           HV0003|              B03404|              B03404|2023-10-06 22:44:46|2023-10-06 22:47:34|2023-10-06 22:49:35|2023-10-06 22:58:45|          86|          86|      1.37|      550|               8.59|  0.0|0.24|     0.76|                 0.0|        0.0| 0.0|      6.98|                  N|                N|                  |               N|             N|\n",
      "|           HV0003|              B03404|              B03404|2023-10-05 16:43:13|2023-10-05 16:43:47|2023-10-05 16:44:49|2023-10-05 17:12:56|          20|         213|      4.07|     1687|               19.7|  0.0|0.54|     1.75|                 0.0|        0.0| 0.0|     21.21|                  N|                N|                  |               N|             N|\n",
      "|           HV0003|              B03404|              B03404|2023-10-09 04:00:22|2023-10-09 04:03:24|2023-10-09 04:04:51|2023-10-09 04:31:01|          33|         132|     18.55|     1570|              55.65|  0.0| 1.6|     5.16|                 0.0|        2.5| 0.0|     39.13|                  N|                N|                  |               N|             N|\n",
      "|           HV0005|              B03406|                null|2023-10-08 06:13:17|               null|2023-10-08 06:23:58|2023-10-08 06:56:07|          60|         234|    13.583|     1929|               33.3| 2.36|0.98|     3.17|                2.75|        0.0|6.72|     36.25|                  N|                N|                 N|               N|             N|\n",
      "|           HV0003|              B03404|              B03404|2023-10-05 19:46:14|2023-10-05 19:49:21|2023-10-05 19:50:13|2023-10-05 19:55:24|         221|         115|       1.3|      311|               8.02|  0.0|0.22|     0.71|                 0.0|        0.0| 0.0|      5.81|                  Y|                N|                  |               N|             N|\n",
      "|           HV0005|              B03406|                null|2023-10-03 20:40:07|               null|2023-10-03 20:47:07|2023-10-03 20:53:42|         126|         168|     1.498|      395|               8.95|  0.0|0.25|     0.79|                 0.0|        0.0| 0.0|      5.73|                  N|                N|                 N|               N|             N|\n",
      "|           HV0005|              B03406|                null|2023-10-04 13:33:44|               null|2023-10-04 13:38:21|2023-10-04 13:48:16|         181|         257|     1.898|      595|              10.61|  0.0|0.29|     0.94|                 0.0|        0.0| 0.0|      8.16|                  N|                N|                 N|               N|             N|\n",
      "|           HV0003|              B03404|              B03404|2023-10-07 18:53:33|2023-10-07 18:58:36|2023-10-07 18:59:33|2023-10-07 19:04:05|         181|         189|      0.45|      272|               5.99|  0.0|0.16|     0.53|                 0.0|        0.0| 0.0|      6.99|                  N|                N|                  |               N|             Y|\n",
      "|           HV0003|              B03404|              B03404|2023-10-04 21:22:37|2023-10-04 21:26:01|2023-10-04 21:28:02|2023-10-04 21:45:10|         135|         260|      8.19|     1028|              22.52|  0.0|0.62|      2.0|                 0.0|        0.0|2.51|     20.42|                  N|                N|                  |               N|             N|\n",
      "|           HV0003|              B03404|              B03404|2023-10-04 15:10:13|2023-10-04 15:12:43|2023-10-04 15:17:42|2023-10-04 15:27:41|         236|         237|      1.23|      599|              41.16|  0.0|1.13|     3.65|                2.75|        0.0| 0.0|     21.86|                  N|                N|                  |               N|             N|\n",
      "|           HV0003|              B03404|              B03404|2023-10-02 06:16:55|2023-10-02 06:20:00|2023-10-02 06:22:01|2023-10-02 06:33:25|         210|          55|      2.15|      684|              10.28|  0.0|0.28|     0.91|                 0.0|        0.0| 0.0|      9.27|                  N|                N|                  |               N|             N|\n",
      "|           HV0003|              B03404|              B03404|2023-10-02 15:05:48|2023-10-02 15:05:53|2023-10-02 15:07:54|2023-10-02 15:23:21|         161|         234|      1.35|      927|              25.15|  0.0|0.69|     2.23|                2.75|        0.0| 0.0|     12.81|                  N|                N|                  |               N|             N|\n",
      "|           HV0003|              B03404|              B03404|2023-10-05 16:28:22|2023-10-05 16:35:53|2023-10-05 16:37:50|2023-10-05 17:28:45|          56|         205|      7.83|     3055|             116.02|  0.0|3.19|     10.3|                 0.0|        0.0| 0.0|     83.56|                  N|                N|                  |               N|             N|\n",
      "|           HV0003|              B03404|              B03404|2023-10-08 10:38:45|2023-10-08 10:42:52|2023-10-08 10:42:56|2023-10-08 10:54:44|          49|          37|       2.3|      708|              13.43|  0.0|0.37|     1.19|                 0.0|        0.0| 0.0|      9.68|                  N|                N|                  |               N|             N|\n",
      "|           HV0003|              B03404|              B03404|2023-10-01 18:10:41|2023-10-01 18:13:51|2023-10-01 18:14:18|2023-10-01 18:35:51|          72|         225|      3.78|     1293|               15.5|  0.0|0.43|     1.38|                 0.0|        0.0| 0.0|     17.37|                  N|                N|                  |               N|             N|\n",
      "|           HV0003|              B03404|              B03404|2023-10-04 11:15:53|2023-10-04 11:17:30|2023-10-04 11:18:46|2023-10-04 11:40:26|          79|         138|     10.19|     1300|              53.87|  0.0|1.55|      5.0|                2.75|        2.5| 0.0|     25.95|                  N|                N|                  |               N|             N|\n",
      "+-----------------+--------------------+--------------------+-------------------+-------------------+-------------------+-------------------+------------+------------+----------+---------+-------------------+-----+----+---------+--------------------+-----------+----+----------+-------------------+-----------------+------------------+----------------+--------------+\n",
      "only showing top 20 rows\n",
      "\n"
     ]
    }
   ],
   "source": [
    "df.show()"
   ]
  },
  {
   "cell_type": "code",
   "execution_count": 141,
   "metadata": {},
   "outputs": [
    {
     "data": {
      "text/plain": [
       "StructType([StructField('hvfhs_license_num', StringType(), True), StructField('dispatching_base_num', StringType(), True), StructField('originating_base_num', StringType(), True), StructField('request_datetime', TimestampType(), True), StructField('on_scene_datetime', TimestampType(), True), StructField('pickup_datetime', TimestampType(), True), StructField('dropoff_datetime', TimestampType(), True), StructField('PULocationID', IntegerType(), True), StructField('DOLocationID', IntegerType(), True), StructField('trip_miles', DoubleType(), True), StructField('trip_time', LongType(), True), StructField('base_passenger_fare', DoubleType(), True), StructField('tolls', DoubleType(), True), StructField('bcf', DoubleType(), True), StructField('sales_tax', DoubleType(), True), StructField('congestion_surcharge', DoubleType(), True), StructField('airport_fee', DoubleType(), True), StructField('tips', DoubleType(), True), StructField('driver_pay', DoubleType(), True), StructField('shared_request_flag', StringType(), True), StructField('shared_match_flag', StringType(), True), StructField('access_a_ride_flag', StringType(), True), StructField('wav_request_flag', StringType(), True), StructField('wav_match_flag', StringType(), True)])"
      ]
     },
     "execution_count": 141,
     "metadata": {},
     "output_type": "execute_result"
    }
   ],
   "source": [
    "df.schema"
   ]
  },
  {
   "cell_type": "code",
   "execution_count": 143,
   "metadata": {},
   "outputs": [
    {
     "name": "stdout",
     "output_type": "stream",
     "text": [
      "root\n",
      " |-- hvfhs_license_num: string (nullable = true)\n",
      " |-- dispatching_base_num: string (nullable = true)\n",
      " |-- originating_base_num: string (nullable = true)\n",
      " |-- request_datetime: timestamp (nullable = true)\n",
      " |-- on_scene_datetime: timestamp (nullable = true)\n",
      " |-- pickup_datetime: timestamp (nullable = true)\n",
      " |-- dropoff_datetime: timestamp (nullable = true)\n",
      " |-- PULocationID: integer (nullable = true)\n",
      " |-- DOLocationID: integer (nullable = true)\n",
      " |-- trip_miles: double (nullable = true)\n",
      " |-- trip_time: long (nullable = true)\n",
      " |-- base_passenger_fare: double (nullable = true)\n",
      " |-- tolls: double (nullable = true)\n",
      " |-- bcf: double (nullable = true)\n",
      " |-- sales_tax: double (nullable = true)\n",
      " |-- congestion_surcharge: double (nullable = true)\n",
      " |-- airport_fee: double (nullable = true)\n",
      " |-- tips: double (nullable = true)\n",
      " |-- driver_pay: double (nullable = true)\n",
      " |-- shared_request_flag: string (nullable = true)\n",
      " |-- shared_match_flag: string (nullable = true)\n",
      " |-- access_a_ride_flag: string (nullable = true)\n",
      " |-- wav_request_flag: string (nullable = true)\n",
      " |-- wav_match_flag: string (nullable = true)\n",
      "\n"
     ]
    }
   ],
   "source": [
    "df.printSchema()"
   ]
  },
  {
   "cell_type": "code",
   "execution_count": 144,
   "metadata": {},
   "outputs": [
    {
     "data": {
      "text/plain": [
       "DataFrame[pickup_datetime: timestamp, dropoff_datetime: timestamp, trip_miles: double, trip_time: bigint]"
      ]
     },
     "execution_count": 144,
     "metadata": {},
     "output_type": "execute_result"
    }
   ],
   "source": [
    "df.select('pickup_datetime', 'dropoff_datetime', 'trip_miles', 'trip_time').filter(df.hvfhs_license_num == 'HV0003')"
   ]
  },
  {
   "cell_type": "code",
   "execution_count": 146,
   "metadata": {},
   "outputs": [
    {
     "name": "stdout",
     "output_type": "stream",
     "text": [
      "+-------------------+-------------------+----------+---------+\n",
      "|    pickup_datetime|   dropoff_datetime|trip_miles|trip_time|\n",
      "+-------------------+-------------------+----------+---------+\n",
      "|2023-10-04 07:04:47|2023-10-04 07:15:44|      1.81|      657|\n",
      "|2023-10-04 04:47:17|2023-10-04 04:52:07|      1.12|      290|\n",
      "|2023-10-09 08:32:18|2023-10-09 08:43:57|      1.82|      699|\n",
      "|2023-10-06 22:49:35|2023-10-06 22:58:45|      1.37|      550|\n",
      "|2023-10-05 16:44:49|2023-10-05 17:12:56|      4.07|     1687|\n",
      "|2023-10-09 04:04:51|2023-10-09 04:31:01|     18.55|     1570|\n",
      "|2023-10-05 19:50:13|2023-10-05 19:55:24|       1.3|      311|\n",
      "|2023-10-07 18:59:33|2023-10-07 19:04:05|      0.45|      272|\n",
      "|2023-10-04 21:28:02|2023-10-04 21:45:10|      8.19|     1028|\n",
      "|2023-10-04 15:17:42|2023-10-04 15:27:41|      1.23|      599|\n",
      "|2023-10-02 06:22:01|2023-10-02 06:33:25|      2.15|      684|\n",
      "|2023-10-02 15:07:54|2023-10-02 15:23:21|      1.35|      927|\n",
      "|2023-10-05 16:37:50|2023-10-05 17:28:45|      7.83|     3055|\n",
      "|2023-10-08 10:42:56|2023-10-08 10:54:44|       2.3|      708|\n",
      "|2023-10-01 18:14:18|2023-10-01 18:35:51|      3.78|     1293|\n",
      "|2023-10-04 11:18:46|2023-10-04 11:40:26|     10.19|     1300|\n",
      "|2023-10-04 07:48:03|2023-10-04 08:54:53|     21.53|     4010|\n",
      "|2023-10-05 11:06:47|2023-10-05 11:50:54|     10.49|     2647|\n",
      "|2023-10-01 17:40:15|2023-10-01 18:07:50|      9.36|     1655|\n",
      "|2023-10-01 12:54:24|2023-10-01 13:16:57|      4.96|     1353|\n",
      "+-------------------+-------------------+----------+---------+\n",
      "only showing top 20 rows\n",
      "\n"
     ]
    }
   ],
   "source": [
    "df.select('pickup_datetime', 'dropoff_datetime', 'trip_miles', 'trip_time')\\\n",
    "      .filter(df.hvfhs_license_num == 'HV0003').show()"
   ]
  },
  {
   "cell_type": "code",
   "execution_count": null,
   "metadata": {},
   "outputs": [],
   "source": []
  }
 ],
 "metadata": {
  "kernelspec": {
   "display_name": "base",
   "language": "python",
   "name": "python3"
  },
  "language_info": {
   "codemirror_mode": {
    "name": "ipython",
    "version": 3
   },
   "file_extension": ".py",
   "mimetype": "text/x-python",
   "name": "python",
   "nbconvert_exporter": "python",
   "pygments_lexer": "ipython3",
   "version": "3.11.7"
  }
 },
 "nbformat": 4,
 "nbformat_minor": 2
}
