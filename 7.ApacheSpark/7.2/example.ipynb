{
 "cells": [
  {
   "cell_type": "code",
   "execution_count": null,
   "metadata": {},
   "outputs": [],
   "source": [
    "import pyspark\n",
    "from pyspark.sql import SparkSession"
   ]
  },
  {
   "cell_type": "code",
   "execution_count": null,
   "metadata": {},
   "outputs": [],
   "source": [
    "spark = SparkSession.builder\\\n",
    "                    .master(\"local[*]\")\\\n",
    "                    .appName(\"test\")\\\n",
    "                    .getOrCreate()"
   ]
  },
  {
   "cell_type": "code",
   "execution_count": null,
   "metadata": {},
   "outputs": [],
   "source": [
    "!wget https://d37ci6vzurychx.cloudfront.net/trip-data/fhvhv_tripdata_2023-10.parquet"
   ]
  },
  {
   "cell_type": "code",
   "execution_count": null,
   "metadata": {},
   "outputs": [],
   "source": [
    "data = spark.read.parquet(\"fhvhv_tripdata_2023-10.parquet\")"
   ]
  },
  {
   "cell_type": "code",
   "execution_count": null,
   "metadata": {},
   "outputs": [],
   "source": [
    "data.show()"
   ]
  },
  {
   "cell_type": "code",
   "execution_count": null,
   "metadata": {},
   "outputs": [],
   "source": [
    "# Number of rows\n",
    "data.count(), len(data.columns)"
   ]
  },
  {
   "cell_type": "code",
   "execution_count": null,
   "metadata": {},
   "outputs": [],
   "source": [
    "data.head(5)"
   ]
  },
  {
   "cell_type": "code",
   "execution_count": null,
   "metadata": {},
   "outputs": [],
   "source": [
    "data.schema"
   ]
  },
  {
   "cell_type": "code",
   "execution_count": 109,
   "metadata": {},
   "outputs": [],
   "source": [
    "from pyspark.sql import types\n",
    "schema = types.StructType([\n",
    "        types.StructField('hvfhs_license_num', types.StringType(), True),\n",
    "        types.StructField('dispatching_base_num', types.StringType(), True),\n",
    "        types.StructField('originating_base_num', types.StringType(), True),\n",
    "        types.StructField('request_datetime', types.TimestampType(), True),\n",
    "        types.StructField('on_scene_datetime', types.TimestampType(), True),\n",
    "        types.StructField('pickup_datetime', types.TimestampType(), True),\n",
    "        types.StructField('dropoff_datetime', types.TimestampType(), True),\n",
    "        types.StructField('PULocationID', types.IntegerType(), True),\n",
    "        types.StructField('DOLocationID', types.IntegerType(), True),\n",
    "        types.StructField('trip_miles', types.DoubleType(), True),\n",
    "        types.StructField('trip_time', types.LongType(), True),\n",
    "        types.StructField('base_passenger_fare', types.DoubleType(), True),\n",
    "        types.StructField('tolls', types.DoubleType(), True),\n",
    "        types.StructField('bcf', types.DoubleType(), True),\n",
    "        types.StructField('sales_tax', types.DoubleType(), True),\n",
    "        types.StructField('congestion_surcharge', types.DoubleType(), True),\n",
    "        types.StructField('airport_fee', types.DoubleType(), True),\n",
    "        types.StructField('tips', types.DoubleType(), True),\n",
    "        types.StructField('driver_pay', types.DoubleType(), True),\n",
    "        types.StructField('shared_request_flag', types.StringType(), True),\n",
    "        types.StructField('shared_match_flag', types.StringType(), True),\n",
    "        types.StructField('access_a_ride_flag', types.StringType(), True),\n",
    "        types.StructField('wav_request_flag', types.StringType(), True),\n",
    "        types.StructField('wav_match_flag', types.StringType(), True)\n",
    "])"
   ]
  },
  {
   "cell_type": "code",
   "execution_count": null,
   "metadata": {},
   "outputs": [],
   "source": [
    "# data = spark.read.parquet(\"fhvhv_tripdata_2023-10.parquet\", schema=schema, header=True)"
   ]
  },
  {
   "cell_type": "code",
   "execution_count": 110,
   "metadata": {},
   "outputs": [],
   "source": [
    "data = spark.read.schema(schema).parquet(\"fhvhv_tripdata_2023-10.parquet\")"
   ]
  },
  {
   "cell_type": "code",
   "execution_count": null,
   "metadata": {},
   "outputs": [],
   "source": [
    "# data = spark.read\\\n",
    "#     .option(\"header\", True)\\\n",
    "#     .schema(schema)\\\n",
    "#     .csv(\"fhvhv_tripdata_2023-10.parquet\")"
   ]
  },
  {
   "cell_type": "code",
   "execution_count": 113,
   "metadata": {},
   "outputs": [
    {
     "data": {
      "text/plain": [
       "[Row(hvfhs_license_num='HV0003', dispatching_base_num='B03404', originating_base_num='B03404', request_datetime=datetime.datetime(2023, 10, 1, 0, 36, 27), on_scene_datetime=datetime.datetime(2023, 10, 1, 0, 38, 11), pickup_datetime=datetime.datetime(2023, 10, 1, 0, 39, 13), dropoff_datetime=datetime.datetime(2023, 10, 1, 1, 6, 47), PULocationID=24, DOLocationID=114, trip_miles=6.78, trip_time=1654, base_passenger_fare=29.72, tolls=0.0, bcf=0.82, sales_tax=2.64, congestion_surcharge=2.75, airport_fee=0.0, tips=0.0, driver_pay=24.46, shared_request_flag='N', shared_match_flag='N', access_a_ride_flag=' ', wav_request_flag='N', wav_match_flag='N'),\n",
       " Row(hvfhs_license_num='HV0003', dispatching_base_num='B03404', originating_base_num='B03404', request_datetime=datetime.datetime(2023, 10, 1, 0, 2, 41), on_scene_datetime=datetime.datetime(2023, 10, 1, 0, 6, 24), pickup_datetime=datetime.datetime(2023, 10, 1, 0, 7, 30), dropoff_datetime=datetime.datetime(2023, 10, 1, 0, 31, 52), PULocationID=258, DOLocationID=255, trip_miles=9.0, trip_time=1462, base_passenger_fare=31.26, tolls=0.0, bcf=0.86, sales_tax=2.77, congestion_surcharge=0.0, airport_fee=0.0, tips=0.0, driver_pay=25.57, shared_request_flag='N', shared_match_flag='N', access_a_ride_flag=' ', wav_request_flag='N', wav_match_flag='N'),\n",
       " Row(hvfhs_license_num='HV0003', dispatching_base_num='B03404', originating_base_num='B03404', request_datetime=datetime.datetime(2023, 10, 1, 0, 29, 22), on_scene_datetime=datetime.datetime(2023, 10, 1, 0, 33, 52), pickup_datetime=datetime.datetime(2023, 10, 1, 0, 34, 48), dropoff_datetime=datetime.datetime(2023, 10, 1, 1, 10, 17), PULocationID=255, DOLocationID=265, trip_miles=22.45, trip_time=2129, base_passenger_fare=80.81, tolls=6.94, bcf=2.41, sales_tax=7.79, congestion_surcharge=0.0, airport_fee=0.0, tips=0.0, driver_pay=55.64, shared_request_flag='N', shared_match_flag='N', access_a_ride_flag=' ', wav_request_flag='N', wav_match_flag='N'),\n",
       " Row(hvfhs_license_num='HV0003', dispatching_base_num='B03404', originating_base_num='B03404', request_datetime=datetime.datetime(2023, 9, 30, 23, 57), on_scene_datetime=datetime.datetime(2023, 10, 1, 0, 3, 35), pickup_datetime=datetime.datetime(2023, 10, 1, 0, 4, 4), dropoff_datetime=datetime.datetime(2023, 10, 1, 0, 14, 15), PULocationID=256, DOLocationID=148, trip_miles=2.32, trip_time=611, base_passenger_fare=18.96, tolls=0.0, bcf=0.52, sales_tax=1.68, congestion_surcharge=2.75, airport_fee=0.0, tips=3.58, driver_pay=20.4, shared_request_flag='N', shared_match_flag='N', access_a_ride_flag=' ', wav_request_flag='N', wav_match_flag='N'),\n",
       " Row(hvfhs_license_num='HV0003', dispatching_base_num='B03404', originating_base_num='B03404', request_datetime=datetime.datetime(2023, 10, 1, 0, 14, 45), on_scene_datetime=datetime.datetime(2023, 10, 1, 0, 24, 24), pickup_datetime=datetime.datetime(2023, 10, 1, 0, 24, 24), dropoff_datetime=datetime.datetime(2023, 10, 1, 0, 40, 56), PULocationID=148, DOLocationID=141, trip_miles=4.86, trip_time=992, base_passenger_fare=36.63, tolls=0.0, bcf=1.01, sales_tax=3.25, congestion_surcharge=2.75, airport_fee=0.0, tips=0.0, driver_pay=31.62, shared_request_flag='N', shared_match_flag='N', access_a_ride_flag=' ', wav_request_flag='N', wav_match_flag='N')]"
      ]
     },
     "execution_count": 113,
     "metadata": {},
     "output_type": "execute_result"
    }
   ],
   "source": [
    "data.head(5)"
   ]
  },
  {
   "cell_type": "code",
   "execution_count": 114,
   "metadata": {},
   "outputs": [
    {
     "name": "stdout",
     "output_type": "stream",
     "text": [
      "+-----------------+--------------------+--------------------+-------------------+-------------------+-------------------+-------------------+------------+------------+----------+---------+-------------------+-----+----+---------+--------------------+-----------+----+----------+-------------------+-----------------+------------------+----------------+--------------+\n",
      "|hvfhs_license_num|dispatching_base_num|originating_base_num|   request_datetime|  on_scene_datetime|    pickup_datetime|   dropoff_datetime|PULocationID|DOLocationID|trip_miles|trip_time|base_passenger_fare|tolls| bcf|sales_tax|congestion_surcharge|airport_fee|tips|driver_pay|shared_request_flag|shared_match_flag|access_a_ride_flag|wav_request_flag|wav_match_flag|\n",
      "+-----------------+--------------------+--------------------+-------------------+-------------------+-------------------+-------------------+------------+------------+----------+---------+-------------------+-----+----+---------+--------------------+-----------+----+----------+-------------------+-----------------+------------------+----------------+--------------+\n",
      "|           HV0003|              B03404|              B03404|2023-10-01 00:36:27|2023-10-01 00:38:11|2023-10-01 00:39:13|2023-10-01 01:06:47|          24|         114|      6.78|     1654|              29.72|  0.0|0.82|     2.64|                2.75|        0.0| 0.0|     24.46|                  N|                N|                  |               N|             N|\n",
      "|           HV0003|              B03404|              B03404|2023-10-01 00:02:41|2023-10-01 00:06:24|2023-10-01 00:07:30|2023-10-01 00:31:52|         258|         255|       9.0|     1462|              31.26|  0.0|0.86|     2.77|                 0.0|        0.0| 0.0|     25.57|                  N|                N|                  |               N|             N|\n",
      "|           HV0003|              B03404|              B03404|2023-10-01 00:29:22|2023-10-01 00:33:52|2023-10-01 00:34:48|2023-10-01 01:10:17|         255|         265|     22.45|     2129|              80.81| 6.94|2.41|     7.79|                 0.0|        0.0| 0.0|     55.64|                  N|                N|                  |               N|             N|\n",
      "|           HV0003|              B03404|              B03404|2023-09-30 23:57:00|2023-10-01 00:03:35|2023-10-01 00:04:04|2023-10-01 00:14:15|         256|         148|      2.32|      611|              18.96|  0.0|0.52|     1.68|                2.75|        0.0|3.58|      20.4|                  N|                N|                  |               N|             N|\n",
      "|           HV0003|              B03404|              B03404|2023-10-01 00:14:45|2023-10-01 00:24:24|2023-10-01 00:24:24|2023-10-01 00:40:56|         148|         141|      4.86|      992|              36.63|  0.0|1.01|     3.25|                2.75|        0.0| 0.0|     31.62|                  N|                N|                  |               N|             N|\n",
      "|           HV0003|              B03404|              B03404|2023-10-01 00:22:07|2023-10-01 00:24:14|2023-10-01 00:24:29|2023-10-01 00:56:21|         231|         146|     10.32|     1912|              48.53|  0.0|1.33|     4.31|                2.75|        0.0| 0.0|     35.03|                  N|                N|                  |               N|             N|\n",
      "|           HV0003|              B03404|              B03404|2023-10-01 00:06:17|2023-10-01 00:08:07|2023-10-01 00:08:45|2023-10-01 00:31:35|         211|         145|      5.91|     1370|              40.06|  0.0| 1.1|     3.56|                2.75|        0.0| 0.0|     37.25|                  N|                N|                  |               N|             N|\n",
      "|           HV0003|              B03404|              B03404|2023-10-01 00:46:24|2023-10-01 00:49:07|2023-10-01 00:50:58|2023-10-01 01:00:27|          80|         217|      1.17|      569|              18.89|  0.0|0.52|     1.68|                 0.0|        0.0| 0.0|     20.09|                  N|                N|                  |               N|             N|\n",
      "|           HV0003|              B03404|              B03404|2023-10-01 00:21:47|2023-10-01 00:23:26|2023-10-01 00:25:27|2023-10-01 00:51:10|         236|         259|     12.63|     1543|              36.12|  0.0|0.99|     3.21|                2.75|        0.0| 0.0|     31.11|                  N|                N|                  |               N|             N|\n",
      "|           HV0003|              B03404|              B03404|2023-10-01 00:23:29|2023-10-01 00:25:01|2023-10-01 00:26:54|2023-10-01 00:41:07|          33|         233|      5.74|      853|              35.14|  0.0|0.97|     3.12|                2.75|        0.0| 0.0|     32.81|                  N|                N|                  |               N|             N|\n",
      "|           HV0005|              B03406|                null|2023-10-01 00:19:36|               null|2023-10-01 00:22:21|2023-10-01 00:29:54|           7|         226|      0.87|      453|               7.54|  0.0|0.21|     0.67|                 0.0|        0.0| 0.0|      5.47|                  N|                N|                 N|               N|             N|\n",
      "|           HV0005|              B03406|                null|2023-10-01 00:32:26|               null|2023-10-01 00:34:40|2023-10-01 00:53:44|         146|          65|     6.819|     1144|               26.7|  0.0|0.73|     2.37|                 0.0|        0.0| 0.0|     19.87|                  N|                N|                 N|               N|             N|\n",
      "|           HV0005|              B03406|                null|2023-10-01 00:09:37|               null|2023-10-01 00:17:35|2023-10-01 00:44:42|          40|          37|     4.448|     1627|              26.64|  0.0|0.73|     2.36|                 0.0|        0.0|5.95|     21.33|                  N|                N|                 N|               N|             N|\n",
      "|           HV0005|              B03406|                null|2023-10-01 00:45:21|               null|2023-10-01 00:52:09|2023-10-01 01:14:37|          37|         106|     4.084|     1348|              23.48|  0.0|0.65|     2.08|                 0.0|        0.0| 0.0|     18.19|                  N|                N|                 N|               N|             N|\n",
      "|           HV0003|              B03404|              B03404|2023-10-01 00:00:22|2023-10-01 00:01:57|2023-10-01 00:02:04|2023-10-01 00:22:46|          74|         247|      6.45|     1242|              22.35|  0.0|0.61|     1.98|                 0.0|        0.0| 0.0|     22.32|                  N|                N|                  |               N|             N|\n",
      "|           HV0003|              B03404|              B03404|2023-10-01 00:17:24|2023-10-01 00:23:45|2023-10-01 00:25:14|2023-10-01 00:41:55|         247|          51|      9.61|     1001|              18.08|  0.0| 0.5|      1.6|                 0.0|        0.0| 0.0|     24.21|                  Y|                N|                  |               N|             N|\n",
      "|           HV0003|              B03404|              B03404|2023-10-01 00:40:07|2023-10-01 00:48:41|2023-10-01 00:48:51|2023-10-01 00:58:12|          51|         212|       5.4|      561|              13.44|  0.0|0.37|     1.19|                 0.0|        0.0| 0.0|     12.54|                  N|                N|                  |               N|             N|\n",
      "|           HV0003|              B03404|              B03404|2023-10-01 00:42:44|2023-10-01 00:51:36|2023-10-01 00:53:38|2023-10-01 01:07:49|          66|         257|      4.91|      851|              25.04|  0.0|0.69|     2.22|                 0.0|        0.0| 0.0|     14.46|                  N|                N|                  |               N|             N|\n",
      "|           HV0003|              B03404|              B03404|2023-10-01 00:52:36|2023-10-01 00:55:08|2023-10-01 00:55:42|2023-10-01 01:05:58|         191|          19|      2.25|      616|              11.15|  0.0|0.31|     0.99|                 0.0|        0.0| 0.0|      8.98|                  N|                N|                  |               N|             N|\n",
      "|           HV0005|              B03406|                null|2023-10-01 00:04:07|               null|2023-10-01 00:13:32|2023-10-01 00:21:11|         234|         170|     0.753|      459|              10.45|  0.0|0.29|     0.93|                2.75|        0.0| 0.0|      9.82|                  N|                N|                 N|               N|             N|\n",
      "+-----------------+--------------------+--------------------+-------------------+-------------------+-------------------+-------------------+------------+------------+----------+---------+-------------------+-----+----+---------+--------------------+-----------+----+----------+-------------------+-----------------+------------------+----------------+--------------+\n",
      "only showing top 20 rows\n",
      "\n"
     ]
    }
   ],
   "source": [
    "data.show()"
   ]
  },
  {
   "cell_type": "code",
   "execution_count": 115,
   "metadata": {},
   "outputs": [
    {
     "data": {
      "text/plain": [
       "['hvfhs_license_num',\n",
       " 'dispatching_base_num',\n",
       " 'originating_base_num',\n",
       " 'request_datetime',\n",
       " 'on_scene_datetime',\n",
       " 'pickup_datetime',\n",
       " 'dropoff_datetime',\n",
       " 'PULocationID',\n",
       " 'DOLocationID',\n",
       " 'trip_miles',\n",
       " 'trip_time',\n",
       " 'base_passenger_fare',\n",
       " 'tolls',\n",
       " 'bcf',\n",
       " 'sales_tax',\n",
       " 'congestion_surcharge',\n",
       " 'airport_fee',\n",
       " 'tips',\n",
       " 'driver_pay',\n",
       " 'shared_request_flag',\n",
       " 'shared_match_flag',\n",
       " 'access_a_ride_flag',\n",
       " 'wav_request_flag',\n",
       " 'wav_match_flag']"
      ]
     },
     "execution_count": 115,
     "metadata": {},
     "output_type": "execute_result"
    }
   ],
   "source": [
    "data.columns"
   ]
  },
  {
   "cell_type": "code",
   "execution_count": null,
   "metadata": {},
   "outputs": [],
   "source": []
  }
 ],
 "metadata": {
  "kernelspec": {
   "display_name": "base",
   "language": "python",
   "name": "python3"
  },
  "language_info": {
   "codemirror_mode": {
    "name": "ipython",
    "version": 3
   },
   "file_extension": ".py",
   "mimetype": "text/x-python",
   "name": "python",
   "nbconvert_exporter": "python",
   "pygments_lexer": "ipython3",
   "version": "3.11.7"
  }
 },
 "nbformat": 4,
 "nbformat_minor": 2
}
