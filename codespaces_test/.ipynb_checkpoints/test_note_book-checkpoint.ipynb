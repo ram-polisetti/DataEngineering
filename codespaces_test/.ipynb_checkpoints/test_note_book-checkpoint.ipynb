{
 "cells": [
  {
   "cell_type": "code",
   "execution_count": 1,
   "id": "4f2b2b4b-dc8a-4635-bf9b-2d0033d37260",
   "metadata": {},
   "outputs": [
    {
     "name": "stdout",
     "output_type": "stream",
     "text": [
      "Hello! Im in Code Spaces\n"
     ]
    }
   ],
   "source": [
    "print(\"Hello! Im in Code Spaces\")"
   ]
  },
  {
   "cell_type": "code",
   "execution_count": null,
   "id": "0b22c396-910f-4c3c-b09d-11c22ec10ea9",
   "metadata": {},
   "outputs": [],
   "source": []
  }
 ],
 "metadata": {
  "kernelspec": {
   "display_name": "Python 3 (ipykernel)",
   "language": "python",
   "name": "python3"
  },
  "language_info": {
   "codemirror_mode": {
    "name": "ipython",
    "version": 3
   },
   "file_extension": ".py",
   "mimetype": "text/x-python",
   "name": "python",
   "nbconvert_exporter": "python",
   "pygments_lexer": "ipython3",
   "version": "3.10.13"
  }
 },
 "nbformat": 4,
 "nbformat_minor": 5
}
